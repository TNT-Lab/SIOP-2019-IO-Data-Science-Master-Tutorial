{
 "cells": [
  {
   "cell_type": "markdown",
   "metadata": {
    "slideshow": {
     "slide_type": "-"
    }
   },
   "source": [
    "# <center>Data Sourcing Techniques and Data Science Methods </center>\n",
    "_Leveraging Data Science 2019 SIOP Master Tutorial_\n",
    "\n"
   ]
  },
  {
   "cell_type": "markdown",
   "metadata": {
    "slideshow": {
     "slide_type": "-"
    }
   },
   "source": [
    "Data science’s focus on extremely large datasets has led to the development of many tools and analytic approaches optimized for those datasets, and many of these tools and approaches bring great value to improve the conclusions developed\n",
    "by IOs, even when data isn’t that big. \n",
    "\n",
    "Some of these concepts & tools are new to many people in IO but most are not as foreign as they appear initially. \n",
    "\n",
    "We’ll be discussing two general types of data science tools and approaches that have potential to help IOs better address old research questions or develop new research questions:\n",
    "\n",
    " 1. New data sources to consider:\n",
    "       * APIs and Webscraping\n",
    "\n",
    "\n",
    " 2. Data Science Methods\n",
    "       * Natural Language Processing\n",
    "       * Machine Learning\n",
    "       \n",
    "Demo using SIOP-related Tweets:\n"
   ]
  },
  {
   "cell_type": "markdown",
   "metadata": {
    "slideshow": {
     "slide_type": "-"
    }
   },
   "source": [
    "![alt text](https://github.com/TNT-Lab/SIOP-2019-IO-Data-Science-Master-Tutorial/blob/master/notebookpictures/intropicture.png?raw=true)"
   ]
  },
  {
   "cell_type": "markdown",
   "metadata": {
    "slideshow": {
     "slide_type": "-"
    }
   },
   "source": [
    "## New Data Sources (APIs & Webscraping)"
   ]
  },
  {
   "cell_type": "markdown",
   "metadata": {
    "slideshow": {
     "slide_type": "-"
    }
   },
   "source": [
    "### APIs and Webscraping"
   ]
  },
  {
   "cell_type": "markdown",
   "metadata": {
    "slideshow": {
     "slide_type": "-"
    }
   },
   "source": [
    "Two primary ways of systematically accessing information from the web:\n",
    "\n",
    "**(Manual) Web Scraping: requires crawling webpages for HTML tags**\n",
    "* generally used when an API is not available\n",
    "* usually generates unstructured/messy output\n",
    "* see https://rlanders.net/scrapy/ for step-by-step walk through\n",
    "\n",
    "**Application Programming Interfaces (APIs): a gateway into a system created by a service provider**\n",
    "* Almost universally intended and designed for real-time access by other websites, but you can use them too \n",
    "* Requires learning API documentation – they’re all different\n",
    "* Most APIs require “keys” or “tokens” or “secret phrase”, etc\n"
   ]
  },
  {
   "cell_type": "markdown",
   "metadata": {},
   "source": [
    "We'll demo a user-friendly way of accessing the Twitter API using R."
   ]
  },
  {
   "cell_type": "markdown",
   "metadata": {},
   "source": [
    "#### Accessing Twitter's API"
   ]
  },
  {
   "cell_type": "markdown",
   "metadata": {},
   "source": [
    "First, let's load the libraries we'll need. "
   ]
  },
  {
   "cell_type": "code",
   "execution_count": 2,
   "metadata": {},
   "outputs": [
    {
     "name": "stderr",
     "output_type": "stream",
     "text": [
      "Warning message:\n",
      "\"package 'rtweet' was built under R version 3.5.3\"\n",
      "Attaching package: 'dplyr'\n",
      "\n",
      "The following objects are masked from 'package:stats':\n",
      "\n",
      "    filter, lag\n",
      "\n",
      "The following objects are masked from 'package:base':\n",
      "\n",
      "    intersect, setdiff, setequal, union\n",
      "\n"
     ]
    }
   ],
   "source": [
    "library(rtweet)\n",
    "library(dplyr)"
   ]
  },
  {
   "cell_type": "markdown",
   "metadata": {},
   "source": [
    "Next we need to set up access to the Twitter API. The Twitter API will allow us to request data from Twitter to use later in our analyses. In order to obtain permission to access the Twitter API, you'll need to first set up credentials. \n",
    "\n",
    "To do this, you'll need to log into Twitter and create an application: https://developer.twitter.com/en/account/get-started. \n",
    "\n",
    "Once you have created an application, locate your \"keys and tokens.\" We'll temporarily save these to our local R environment. Make sure you don't share these with others!\n",
    "\n",
    "Add keys here:"
   ]
  },
  {
   "cell_type": "code",
   "execution_count": 3,
   "metadata": {},
   "outputs": [],
   "source": [
    "# Replace these with your Twitter access keys (in the quote) - DO NOT SHARE YOUR KEYS WITH OTHERS\n",
    "appname <- \"SIOP Data Science Tutorial\"\n",
    "key <- \"\"\n",
    "secret <- \"\"\n",
    "access_token <- \"\"\n",
    "access_secret <- \"\"\n",
    "\t\n",
    "# Store these keys for the next step (just run this script)\n",
    "twitter_token<- create_token(\n",
    "  app = appname,\n",
    "  consumer_key = key,\n",
    "  consumer_secret = secret,\n",
    "  access_token = access_token,\n",
    "  access_secret =access_secret)\n"
   ]
  },
  {
   "cell_type": "markdown",
   "metadata": {},
   "source": [
    "Now that we have our Twitter API credential set up, we can submit an API request. To do this we will use the R package **rtweet** (https://rtweet.info/). Using this package you can interact with Twitter's API by searching recent tweets by keywords, publishing tweets, getting trends, and even pulling entire timelines. For this demonstration, we'll be searching for tweets related to SIOP and IO psychology by searching for tweets that contain #SIOP, #IOPsych, #IamSIOP, #SIOP19. \n",
    "\n",
    "It's important to note that free access to Twitter's API restricts search capabilities to tweets that have occurred in the past 6-9 days. Twitter also limits search results to 18,000 tweets every 15 minutes. Paid tiers provide more access and options. \n",
    "\n",
    "Using the **rtweets::search_tweets()**  we'll specify our search parameters using the _q_ argument and the number of tweets using the _n_ argument. \n"
   ]
  },
  {
   "cell_type": "code",
   "execution_count": 4,
   "metadata": {},
   "outputs": [
    {
     "name": "stderr",
     "output_type": "stream",
     "text": [
      "Searching for tweets...\n",
      "Warning message:\n",
      "\"215 - Bad Authentication data.\"Warning message:\n",
      "\"Bad Authentication data.\"Finished collecting tweets!\n"
     ]
    },
    {
     "data": {
      "text/html": [
       "0"
      ],
      "text/latex": [
       "0"
      ],
      "text/markdown": [
       "0"
      ],
      "text/plain": [
       "[1] 0"
      ]
     },
     "metadata": {},
     "output_type": "display_data"
    },
    {
     "data": {
      "text/html": [],
      "text/latex": [],
      "text/markdown": [],
      "text/plain": [
       "<0 x 0 matrix>"
      ]
     },
     "metadata": {},
     "output_type": "display_data"
    }
   ],
   "source": [
    "#request \n",
    "siop_tweets <- search_tweets(q = \"#SIOP OR #IOPsych OR #IamSIOP OR #SIOP19\",\n",
    "                              n = 3000)\n",
    "\n",
    "nrow(siop_tweets)\n",
    "head(siop_tweets, n = 3)\n"
   ]
  },
  {
   "cell_type": "code",
   "execution_count": 5,
   "metadata": {},
   "outputs": [
    {
     "data": {
      "text/html": [
       "4349"
      ],
      "text/latex": [
       "4349"
      ],
      "text/markdown": [
       "4349"
      ],
      "text/plain": [
       "[1] 4349"
      ]
     },
     "metadata": {},
     "output_type": "display_data"
    }
   ],
   "source": [
    "#if we want to save our tweets, we can use the save_as_csv function\n",
    "#save_as_csv(siop_tweets, \"tweets.csv\")\n",
    "#write.csv doesn't work here because of the structure of the searh_tweets output\n",
    "\n",
    "#for this demonstration, we'll just read in our saved tweets (These tweets were collected over the span of three weeks by running the above function once/week)\n",
    "tweets <- read.csv(\"tweets.csv\")\n",
    "nrow(tweets) #we have about 4k SIOP-related tweets to work with\n"
   ]
  },
  {
   "cell_type": "markdown",
   "metadata": {},
   "source": [
    "Now we have some data! Let's glance at it:\n"
   ]
  },
  {
   "cell_type": "code",
   "execution_count": 6,
   "metadata": {},
   "outputs": [
    {
     "data": {
      "text/html": [
       "<table>\n",
       "<thead><tr><th></th><th scope=col>user_id</th><th scope=col>status_id</th><th scope=col>created_at</th><th scope=col>screen_name</th><th scope=col>text</th><th scope=col>source</th><th scope=col>display_text_width</th><th scope=col>reply_to_status_id</th><th scope=col>reply_to_user_id</th><th scope=col>reply_to_screen_name</th><th scope=col>...</th><th scope=col>statuses_count</th><th scope=col>favourites_count</th><th scope=col>account_created_at</th><th scope=col>verified</th><th scope=col>profile_url</th><th scope=col>profile_expanded_url</th><th scope=col>account_lang</th><th scope=col>profile_banner_url</th><th scope=col>profile_background_url</th><th scope=col>profile_image_url</th></tr></thead>\n",
       "<tbody>\n",
       "\t<tr><th scope=row>4347</th><td>x838107058633310210                                                                                                                                                           </td><td>x1108099467419570177                                                                                                                                                          </td><td>3/19/2019 20:14                                                                                                                                                               </td><td>LeboSebete                                                                                                                                                                    </td><td>AARP says IO psychology is the best second career for people over 40. I think it is the best career for people under 40 too! See the article #iopsych\n",
       "https://t.co/8uvl6B1w7C</td><td>Twitter for iPhone                                                                                                                                                            </td><td>140                                                                                                                                                                           </td><td>                                                                                                                                                                              </td><td>                                                                                                                                                                              </td><td>                                                                                                                                                                              </td><td>...                                                                                                                                                                           </td><td>2744                                                                                                                                                                          </td><td>11379                                                                                                                                                                         </td><td>3/4/2017 19:21                                                                                                                                                                </td><td>FALSE                                                                                                                                                                         </td><td>https://t.co/2FMT3011MB                                                                                                                                                       </td><td>http://Instagram.com/just_Lebo_13                                                                                                                                             </td><td>en                                                                                                                                                                            </td><td>https://pbs.twimg.com/profile_banners/838107058633310210/1508830450                                                                                                           </td><td>                                                                                                                                                                              </td><td>http://pbs.twimg.com/profile_images/1023327586754211840/TPzGtRR3_normal.jpg                                                                                                   </td></tr>\n",
       "\t<tr><th scope=row>4348</th><td>x773345434605613056                                                                                                                                                           </td><td>x1108094703952711680                                                                                                                                                          </td><td>3/19/2019 19:55                                                                                                                                                               </td><td>jcolosimo_dci                                                                                                                                                                 </td><td>#SIOP https://t.co/TeSiAeyFTJ                                                                                                                                                 </td><td>Twitter Web Client                                                                                                                                                            </td><td>  5                                                                                                                                                                           </td><td>                                                                                                                                                                              </td><td>                                                                                                                                                                              </td><td>                                                                                                                                                                              </td><td>...                                                                                                                                                                           </td><td>  59                                                                                                                                                                          </td><td>   44                                                                                                                                                                         </td><td>9/7/2016 2:21                                                                                                                                                                 </td><td>FALSE                                                                                                                                                                         </td><td>                                                                                                                                                                              </td><td>                                                                                                                                                                              </td><td>en                                                                                                                                                                            </td><td>                                                                                                                                                                              </td><td>                                                                                                                                                                              </td><td>http://pbs.twimg.com/profile_images/1004832985227677697/Cre1Ld1f_normal.jpg                                                                                                   </td></tr>\n",
       "\t<tr><th scope=row>4349</th><td>x362743713                                                                                                                                                                    </td><td>x1108073879443030016                                                                                                                                                          </td><td>3/19/2019 18:32                                                                                                                                                               </td><td>anfmathgr6                                                                                                                                                                    </td><td>Useful list. #SIOP #Ellchat_BkClub https://t.co/jDZheeBEJI                                                                                                                    </td><td>Twitter for iPhone                                                                                                                                                            </td><td> 79                                                                                                                                                                           </td><td>                                                                                                                                                                              </td><td>                                                                                                                                                                              </td><td>                                                                                                                                                                              </td><td>...                                                                                                                                                                           </td><td> 362                                                                                                                                                                          </td><td>  525                                                                                                                                                                         </td><td>8/26/2011 22:33                                                                                                                                                               </td><td>FALSE                                                                                                                                                                         </td><td>https://t.co/asjK4A9144                                                                                                                                                       </td><td>http://middleschoolmysteries.blogspot.com                                                                                                                                     </td><td>en                                                                                                                                                                            </td><td>https://pbs.twimg.com/profile_banners/362743713/1498168208                                                                                                                    </td><td>http://abs.twimg.com/images/themes/theme10/bg.gif                                                                                                                             </td><td>http://pbs.twimg.com/profile_images/966806188397490176/bfsA_9zG_normal.jpg                                                                                                    </td></tr>\n",
       "</tbody>\n",
       "</table>\n"
      ],
      "text/latex": [
       "\\begin{tabular}{r|llllllllllllllllllllllllllllllllllllllllllllllllllllllllllllllllllllllllllllllllllllllll}\n",
       "  & user\\_id & status\\_id & created\\_at & screen\\_name & text & source & display\\_text\\_width & reply\\_to\\_status\\_id & reply\\_to\\_user\\_id & reply\\_to\\_screen\\_name & ... & statuses\\_count & favourites\\_count & account\\_created\\_at & verified & profile\\_url & profile\\_expanded\\_url & account\\_lang & profile\\_banner\\_url & profile\\_background\\_url & profile\\_image\\_url\\\\\n",
       "\\hline\n",
       "\t4347 & x838107058633310210                                                                                                                                                              & x1108099467419570177                                                                                                                                                             & 3/19/2019 20:14                                                                                                                                                                  & LeboSebete                                                                                                                                                                       & AARP says IO psychology is the best second career for people over 40. I think it is the best career for people under 40 too! See the article \\#iopsych\n",
       "https://t.co/8uvl6B1w7C & Twitter for iPhone                                                                                                                                                               & 140                                                                                                                                                                              &                                                                                                                                                                                  &                                                                                                                                                                                  &                                                                                                                                                                                  & ...                                                                                                                                                                              & 2744                                                                                                                                                                             & 11379                                                                                                                                                                            & 3/4/2017 19:21                                                                                                                                                                   & FALSE                                                                                                                                                                            & https://t.co/2FMT3011MB                                                                                                                                                          & http://Instagram.com/just\\_Lebo\\_13                                                                                                                                            & en                                                                                                                                                                               & https://pbs.twimg.com/profile\\_banners/838107058633310210/1508830450                                                                                                            &                                                                                                                                                                                  & http://pbs.twimg.com/profile\\_images/1023327586754211840/TPzGtRR3\\_normal.jpg                                                                                                 \\\\\n",
       "\t4348 & x773345434605613056                                                                                                                                                              & x1108094703952711680                                                                                                                                                             & 3/19/2019 19:55                                                                                                                                                                  & jcolosimo\\_dci                                                                                                                                                                  & \\#SIOP https://t.co/TeSiAeyFTJ                                                                                                                                                  & Twitter Web Client                                                                                                                                                               &   5                                                                                                                                                                              &                                                                                                                                                                                  &                                                                                                                                                                                  &                                                                                                                                                                                  & ...                                                                                                                                                                              &   59                                                                                                                                                                             &    44                                                                                                                                                                            & 9/7/2016 2:21                                                                                                                                                                    & FALSE                                                                                                                                                                            &                                                                                                                                                                                  &                                                                                                                                                                                  & en                                                                                                                                                                               &                                                                                                                                                                                  &                                                                                                                                                                                  & http://pbs.twimg.com/profile\\_images/1004832985227677697/Cre1Ld1f\\_normal.jpg                                                                                                 \\\\\n",
       "\t4349 & x362743713                                                                                                                                                                           & x1108073879443030016                                                                                                                                                                 & 3/19/2019 18:32                                                                                                                                                                      & anfmathgr6                                                                                                                                                                           & Useful list. \\#SIOP \\#Ellchat\\_BkClub https://t.co/jDZheeBEJI                                                                                                                     & Twitter for iPhone                                                                                                                                                                   &  79                                                                                                                                                                                  &                                                                                                                                                                                      &                                                                                                                                                                                      &                                                                                                                                                                                      & ...                                                                                                                                                                                  &  362                                                                                                                                                                                 &   525                                                                                                                                                                                & 8/26/2011 22:33                                                                                                                                                                      & FALSE                                                                                                                                                                                & https://t.co/asjK4A9144                                                                                                                                                              & http://middleschoolmysteries.blogspot.com                                                                                                                                            & en                                                                                                                                                                                   & https://pbs.twimg.com/profile\\_banners/362743713/1498168208                                                                                                                         & http://abs.twimg.com/images/themes/theme10/bg.gif                                                                                                                                    & http://pbs.twimg.com/profile\\_images/966806188397490176/bfsA\\_9zG\\_normal.jpg                                                                                                    \\\\\n",
       "\\end{tabular}\n"
      ],
      "text/markdown": [
       "\n",
       "| <!--/--> | user_id | status_id | created_at | screen_name | text | source | display_text_width | reply_to_status_id | reply_to_user_id | reply_to_screen_name | ... | statuses_count | favourites_count | account_created_at | verified | profile_url | profile_expanded_url | account_lang | profile_banner_url | profile_background_url | profile_image_url |\n",
       "|---|---|---|---|---|---|---|---|---|---|---|---|---|---|---|---|---|---|---|---|---|---|\n",
       "| 4347 | x838107058633310210                                                                                                                                                            | x1108099467419570177                                                                                                                                                           | 3/19/2019 20:14                                                                                                                                                                | LeboSebete                                                                                                                                                                     | AARP says IO psychology is the best second career for people over 40. I think it is the best career for people under 40 too! See the article #iopsych\n",
       "https://t.co/8uvl6B1w7C | Twitter for iPhone                                                                                                                                                             | 140                                                                                                                                                                            |                                                                                                                                                                                |                                                                                                                                                                                |                                                                                                                                                                                | ...                                                                                                                                                                            | 2744                                                                                                                                                                           | 11379                                                                                                                                                                          | 3/4/2017 19:21                                                                                                                                                                 | FALSE                                                                                                                                                                          | https://t.co/2FMT3011MB                                                                                                                                                        | http://Instagram.com/just_Lebo_13                                                                                                                                              | en                                                                                                                                                                             | https://pbs.twimg.com/profile_banners/838107058633310210/1508830450                                                                                                            |                                                                                                                                                                                | http://pbs.twimg.com/profile_images/1023327586754211840/TPzGtRR3_normal.jpg                                                                                                    |\n",
       "| 4348 | x773345434605613056                                                                                                                                                            | x1108094703952711680                                                                                                                                                           | 3/19/2019 19:55                                                                                                                                                                | jcolosimo_dci                                                                                                                                                                  | #SIOP https://t.co/TeSiAeyFTJ                                                                                                                                                  | Twitter Web Client                                                                                                                                                             |   5                                                                                                                                                                            |                                                                                                                                                                                |                                                                                                                                                                                |                                                                                                                                                                                | ...                                                                                                                                                                            |   59                                                                                                                                                                           |    44                                                                                                                                                                          | 9/7/2016 2:21                                                                                                                                                                  | FALSE                                                                                                                                                                          |                                                                                                                                                                                |                                                                                                                                                                                | en                                                                                                                                                                             |                                                                                                                                                                                |                                                                                                                                                                                | http://pbs.twimg.com/profile_images/1004832985227677697/Cre1Ld1f_normal.jpg                                                                                                    |\n",
       "| 4349 | x362743713                                                                                                                                                                     | x1108073879443030016                                                                                                                                                           | 3/19/2019 18:32                                                                                                                                                                | anfmathgr6                                                                                                                                                                     | Useful list. #SIOP #Ellchat_BkClub https://t.co/jDZheeBEJI                                                                                                                     | Twitter for iPhone                                                                                                                                                             |  79                                                                                                                                                                            |                                                                                                                                                                                |                                                                                                                                                                                |                                                                                                                                                                                | ...                                                                                                                                                                            |  362                                                                                                                                                                           |   525                                                                                                                                                                          | 8/26/2011 22:33                                                                                                                                                                | FALSE                                                                                                                                                                          | https://t.co/asjK4A9144                                                                                                                                                        | http://middleschoolmysteries.blogspot.com                                                                                                                                      | en                                                                                                                                                                             | https://pbs.twimg.com/profile_banners/362743713/1498168208                                                                                                                     | http://abs.twimg.com/images/themes/theme10/bg.gif                                                                                                                              | http://pbs.twimg.com/profile_images/966806188397490176/bfsA_9zG_normal.jpg                                                                                                     |\n",
       "\n"
      ],
      "text/plain": [
       "     user_id             status_id            created_at      screen_name  \n",
       "4347 x838107058633310210 x1108099467419570177 3/19/2019 20:14 LeboSebete   \n",
       "4348 x773345434605613056 x1108094703952711680 3/19/2019 19:55 jcolosimo_dci\n",
       "4349 x362743713          x1108073879443030016 3/19/2019 18:32 anfmathgr6   \n",
       "     text                                                                                                                                                                          \n",
       "4347 AARP says IO psychology is the best second career for people over 40. I think it is the best career for people under 40 too! See the article #iopsych\\nhttps://t.co/8uvl6B1w7C\n",
       "4348 #SIOP https://t.co/TeSiAeyFTJ                                                                                                                                                 \n",
       "4349 Useful list. #SIOP #Ellchat_BkClub https://t.co/jDZheeBEJI                                                                                                                    \n",
       "     source             display_text_width reply_to_status_id reply_to_user_id\n",
       "4347 Twitter for iPhone 140                                                   \n",
       "4348 Twitter Web Client   5                                                   \n",
       "4349 Twitter for iPhone  79                                                   \n",
       "     reply_to_screen_name ... statuses_count favourites_count\n",
       "4347                      ... 2744           11379           \n",
       "4348                      ...   59              44           \n",
       "4349                      ...  362             525           \n",
       "     account_created_at verified profile_url            \n",
       "4347 3/4/2017 19:21     FALSE    https://t.co/2FMT3011MB\n",
       "4348 9/7/2016 2:21      FALSE                           \n",
       "4349 8/26/2011 22:33    FALSE    https://t.co/asjK4A9144\n",
       "     profile_expanded_url                      account_lang\n",
       "4347 http://Instagram.com/just_Lebo_13         en          \n",
       "4348                                           en          \n",
       "4349 http://middleschoolmysteries.blogspot.com en          \n",
       "     profile_banner_url                                                 \n",
       "4347 https://pbs.twimg.com/profile_banners/838107058633310210/1508830450\n",
       "4348                                                                    \n",
       "4349 https://pbs.twimg.com/profile_banners/362743713/1498168208         \n",
       "     profile_background_url                           \n",
       "4347                                                  \n",
       "4348                                                  \n",
       "4349 http://abs.twimg.com/images/themes/theme10/bg.gif\n",
       "     profile_image_url                                                          \n",
       "4347 http://pbs.twimg.com/profile_images/1023327586754211840/TPzGtRR3_normal.jpg\n",
       "4348 http://pbs.twimg.com/profile_images/1004832985227677697/Cre1Ld1f_normal.jpg\n",
       "4349 http://pbs.twimg.com/profile_images/966806188397490176/bfsA_9zG_normal.jpg "
      ]
     },
     "metadata": {},
     "output_type": "display_data"
    }
   ],
   "source": [
    "tail(tweets, n = 3)"
   ]
  },
  {
   "cell_type": "markdown",
   "metadata": {},
   "source": [
    "This is pretty clean output but we'll still need to do some data cleaning depending on which parts of the data we're interested in. "
   ]
  },
  {
   "cell_type": "markdown",
   "metadata": {},
   "source": [
    "Additional things to consider\n",
    "* all data sources have limitations\n",
    "* psychometrics still matter\n",
    "* privacy & ethics"
   ]
  },
  {
   "cell_type": "markdown",
   "metadata": {},
   "source": [
    "## Data Science Methods (Natural Language Processing and Machine Learning)"
   ]
  },
  {
   "cell_type": "markdown",
   "metadata": {},
   "source": [
    "Common characteristics of these approaches\n",
    "* Not all that different from traditional approaches (e.g., OLS Regression, content coding)\n",
    "* Tend to prioritize prediction over explanation"
   ]
  },
  {
   "cell_type": "markdown",
   "metadata": {},
   "source": [
    "### Natural Language Processing (NLP)"
   ]
  },
  {
   "cell_type": "markdown",
   "metadata": {},
   "source": [
    "NLP is the use of algorithms to create meaning from text data\n",
    "\n",
    "The goal is to convert text into numbers in a meaningful way. But, there are an infinite number of ways to do this.\n",
    "\n",
    "Common approaches:\n"
   ]
  },
  {
   "cell_type": "markdown",
   "metadata": {},
   "source": [
    "![alt text](https://github.com/TNT-Lab/SIOP-2019-IO-Data-Science-Master-Tutorial/blob/master/notebookpictures/NLPpicture2.png?raw=true)"
   ]
  },
  {
   "cell_type": "markdown",
   "metadata": {},
   "source": [
    "General Steps:"
   ]
  },
  {
   "cell_type": "markdown",
   "metadata": {},
   "source": [
    "![alt text](https://github.com/TNT-Lab/SIOP-2019-IO-Data-Science-Master-Tutorial/blob/master/notebookpictures/NLPpicture.png?raw=true)"
   ]
  },
  {
   "cell_type": "markdown",
   "metadata": {},
   "source": [
    "To demo, we'll clean up some of the tweet text and display common words in a word cloud."
   ]
  },
  {
   "cell_type": "markdown",
   "metadata": {},
   "source": [
    "Let's again load the R libraries we need"
   ]
  },
  {
   "cell_type": "code",
   "execution_count": 7,
   "metadata": {},
   "outputs": [
    {
     "name": "stderr",
     "output_type": "stream",
     "text": [
      "Warning message:\n",
      "\"package 'tm' was built under R version 3.5.2\"Loading required package: NLP\n",
      "Warning message:\n",
      "\"package 'NLP' was built under R version 3.5.2\"Warning message:\n",
      "\"package 'wordcloud' was built under R version 3.5.2\"Loading required package: RColorBrewer\n"
     ]
    }
   ],
   "source": [
    "library(stringr)\n",
    "library(tm)\n",
    "library(wordcloud)"
   ]
  },
  {
   "cell_type": "markdown",
   "metadata": {},
   "source": [
    "Let's first filter out some tweets that aren't useful to us (retweets and SIOP model-related tweets)\n",
    "\n",
    "**note that only retweets without added text are removed, so we'll keep the ones with commentary\n"
   ]
  },
  {
   "cell_type": "code",
   "execution_count": 8,
   "metadata": {},
   "outputs": [],
   "source": [
    "#First Let's specify that the tweet is in English & try to exclude some SIOPModel -related tweets\n",
    "tweets <- tweets %>%\n",
    "dplyr::filter(lang == \"en\") %>%\n",
    "dplyr::filter( !grepl('siopmodel', text))%>%\n",
    "dplyr::filter( !grepl('ellchat', text))\n",
    "\n",
    "#let's also remove retweets\n",
    "tweets_preprocessed <- tweets%>%\n",
    "dplyr::filter(is_retweet == FALSE)\n"
   ]
  },
  {
   "cell_type": "markdown",
   "metadata": {},
   "source": [
    "Here is the twitter text prior to pre-processing (a random sample of the dataset):"
   ]
  },
  {
   "cell_type": "code",
   "execution_count": 9,
   "metadata": {},
   "outputs": [
    {
     "data": {
      "text/html": [
       "<table>\n",
       "<thead><tr><th></th><th scope=col>text</th></tr></thead>\n",
       "<tbody>\n",
       "\t<tr><th scope=row>659</th><td>@twbriggs Amazon is hiring plenty of I/Os, too!  #IOPsych                                                                                                                                                                                                                                 </td></tr>\n",
       "\t<tr><th scope=row>134</th><td>Amazon gets an edge with its secret squad of PhD economists  #iopsych #datascience https://t.co/bGXnoE4vrs                                                                                                                                                                                </td></tr>\n",
       "\t<tr><th scope=row>179</th><td>Thank you @glintinc and @UltimateHCM for being #SIOP19 Diamond Partners! âœ¨ Register for the annual conference today!:  https://t.co/qNUomvYTbK #TeamSIOP https://t.co/CSad30z1GK                                                                                                        </td></tr>\n",
       "\t<tr><th scope=row>792</th><td>Managers Need to Recognize When Employees are Giving Too Much https://t.co/Z3I9MCNdrM #IOPsych                                                                                                                                                                                            </td></tr>\n",
       "\t<tr><th scope=row>155</th><td>Thousands of #IOPsych pros will share insights on the most important topics of the day at #SIOP19, April 4-6. Where will you be? Attendance is open to all. Read more about conference sessions related to the #Top10WorkplaceTrends here: https://t.co/wQpgQ1liIx https://t.co/XJTj0gGiev</td></tr>\n",
       "</tbody>\n",
       "</table>\n"
      ],
      "text/latex": [
       "\\begin{tabular}{r|l}\n",
       "  & text\\\\\n",
       "\\hline\n",
       "\t659 & @twbriggs Amazon is hiring plenty of I/Os, too!  \\#IOPsych                                                                                                                                                                                                                                 \\\\\n",
       "\t134 & Amazon gets an edge with its secret squad of PhD economists  \\#iopsych \\#datascience https://t.co/bGXnoE4vrs                                                                                                                                                                                \\\\\n",
       "\t179 & Thank you @glintinc and @UltimateHCM for being \\#SIOP19 Diamond Partners! âœ¨ Register for the annual conference today!:  https://t.co/qNUomvYTbK \\#TeamSIOP https://t.co/CSad30z1GK                                                                                                        \\\\\n",
       "\t792 & Managers Need to Recognize When Employees are Giving Too Much https://t.co/Z3I9MCNdrM \\#IOPsych                                                                                                                                                                                            \\\\\n",
       "\t155 & Thousands of \\#IOPsych pros will share insights on the most important topics of the day at \\#SIOP19, April 4-6. Where will you be? Attendance is open to all. Read more about conference sessions related to the \\#Top10WorkplaceTrends here: https://t.co/wQpgQ1liIx https://t.co/XJTj0gGiev\\\\\n",
       "\\end{tabular}\n"
      ],
      "text/markdown": [
       "\n",
       "| <!--/--> | text |\n",
       "|---|---|\n",
       "| 659 | @twbriggs Amazon is hiring plenty of I/Os, too!  #IOPsych                                                                                                                                                                                                                                  |\n",
       "| 134 | Amazon gets an edge with its secret squad of PhD economists  #iopsych #datascience https://t.co/bGXnoE4vrs                                                                                                                                                                                 |\n",
       "| 179 | Thank you @glintinc and @UltimateHCM for being #SIOP19 Diamond Partners! âœ¨ Register for the annual conference today!:  https://t.co/qNUomvYTbK #TeamSIOP https://t.co/CSad30z1GK                                                                                                         |\n",
       "| 792 | Managers Need to Recognize When Employees are Giving Too Much https://t.co/Z3I9MCNdrM #IOPsych                                                                                                                                                                                             |\n",
       "| 155 | Thousands of #IOPsych pros will share insights on the most important topics of the day at #SIOP19, April 4-6. Where will you be? Attendance is open to all. Read more about conference sessions related to the #Top10WorkplaceTrends here: https://t.co/wQpgQ1liIx https://t.co/XJTj0gGiev |\n",
       "\n"
      ],
      "text/plain": [
       "    text                                                                                                                                                                                                                                                                                      \n",
       "659 @twbriggs Amazon is hiring plenty of I/Os, too!  #IOPsych                                                                                                                                                                                                                                 \n",
       "134 Amazon gets an edge with its secret squad of PhD economists  #iopsych #datascience https://t.co/bGXnoE4vrs                                                                                                                                                                                \n",
       "179 Thank you @glintinc and @UltimateHCM for being #SIOP19 Diamond Partners! âœ¨ Register for the annual conference today!:  https://t.co/qNUomvYTbK #TeamSIOP https://t.co/CSad30z1GK                                                                                                        \n",
       "792 Managers Need to Recognize When Employees are Giving Too Much https://t.co/Z3I9MCNdrM #IOPsych                                                                                                                                                                                            \n",
       "155 Thousands of #IOPsych pros will share insights on the most important topics of the day at #SIOP19, April 4-6. Where will you be? Attendance is open to all. Read more about conference sessions related to the #Top10WorkplaceTrends here: https://t.co/wQpgQ1liIx https://t.co/XJTj0gGiev"
      ]
     },
     "metadata": {},
     "output_type": "display_data"
    }
   ],
   "source": [
    "tweets_preprocessed %>%\n",
    "mutate(text = as.character(text))%>%\n",
    "select(text)%>%\n",
    "sample_n(size = 5)"
   ]
  },
  {
   "cell_type": "markdown",
   "metadata": {},
   "source": [
    "Now we need to do some preprocessing. We'll remove URLs, retweets, hashtags, mentions, special characters, punctuation, and stopwords. We'll also remove the search terms we used.\n",
    "\n",
    "We'll also strip white space, and convert to lowercase. "
   ]
  },
  {
   "cell_type": "code",
   "execution_count": 10,
   "metadata": {},
   "outputs": [],
   "source": [
    "#preprocess tweet test\n",
    "tweets_preprocessed$text <- lapply(tweets_preprocessed$text, function(x) {\n",
    "\n",
    "  x = gsub('http\\\\S+\\\\s*', '', x) # Remove URLs\n",
    "  x = gsub('[[:punct:]]', '', x) # Remove Punctuations\n",
    "  x =  iconv(x,from=\"UTF-8\",to=\"ASCII//TRANSLIT\") # remove accents\n",
    "  x = gsub('\\\\b+RT', '', x) # Remove RT\n",
    "  x = gsub('#\\\\S+', '', x) # Remove Hashtags\n",
    "  x = gsub('@\\\\S+', '', x) # Remove Mentions\n",
    "  x = gsub('[[:cntrl:]]', '', x) # Remove Controls and special characters\n",
    "  x = str_to_lower(x) # convert to lowercase\n",
    "  x = removeWords(x, stopwords(\"en\")) # remove stopwords\n",
    "  x = removeWords(x, c(\"siop\",\"iopsych\",\"iamsiop\",\"siop19\")) # remove search terms\n",
    "  x = removeWords(x, c(\"amp\")) # remove \"amp\" associated with & and other words that are not meaningful in this context\n",
    "  x = gsub(' +',' ',x) # Remove extra whitespaces\n",
    "  \n",
    "})\n"
   ]
  },
  {
   "cell_type": "markdown",
   "metadata": {},
   "source": [
    "Let's re-examine the text after preprocessing. "
   ]
  },
  {
   "cell_type": "code",
   "execution_count": 11,
   "metadata": {},
   "outputs": [
    {
     "data": {
      "text/html": [
       "<table>\n",
       "<thead><tr><th></th><th scope=col>text</th></tr></thead>\n",
       "<tbody>\n",
       "\t<tr><th scope=row>921</th><td> can feel endofsemester panic just around corner excited come spring summer first present poster msc thesis two weeks sioptweets u0001f973</td></tr>\n",
       "\t<tr><th scope=row>274</th><td>crestwood elementary staff learned thai today learn feels english learner classroom know language                                         </td></tr>\n",
       "\t<tr><th scope=row>761</th><td> talentmetrics managers need recognize employees giving much                                                                              </td></tr>\n",
       "\t<tr><th scope=row>160</th><td>start career placement center stop upload resumes post job openings network candidates organizations teamsiop                             </td></tr>\n",
       "\t<tr><th scope=row>301</th><td>beneubanks hey beneubanks connect orgvitality speak jeffreysaltzman tops field                                                            </td></tr>\n",
       "</tbody>\n",
       "</table>\n"
      ],
      "text/latex": [
       "\\begin{tabular}{r|l}\n",
       "  & text\\\\\n",
       "\\hline\n",
       "\t921 &  can feel endofsemester panic just around corner excited come spring summer first present poster msc thesis two weeks sioptweets u0001f973\\\\\n",
       "\t274 & crestwood elementary staff learned thai today learn feels english learner classroom know language                                         \\\\\n",
       "\t761 &  talentmetrics managers need recognize employees giving much                                                                              \\\\\n",
       "\t160 & start career placement center stop upload resumes post job openings network candidates organizations teamsiop                             \\\\\n",
       "\t301 & beneubanks hey beneubanks connect orgvitality speak jeffreysaltzman tops field                                                            \\\\\n",
       "\\end{tabular}\n"
      ],
      "text/markdown": [
       "\n",
       "| <!--/--> | text |\n",
       "|---|---|\n",
       "| 921 |  can feel endofsemester panic just around corner excited come spring summer first present poster msc thesis two weeks sioptweets u0001f973 |\n",
       "| 274 | crestwood elementary staff learned thai today learn feels english learner classroom know language                                          |\n",
       "| 761 |  talentmetrics managers need recognize employees giving much                                                                               |\n",
       "| 160 | start career placement center stop upload resumes post job openings network candidates organizations teamsiop                              |\n",
       "| 301 | beneubanks hey beneubanks connect orgvitality speak jeffreysaltzman tops field                                                             |\n",
       "\n"
      ],
      "text/plain": [
       "    text                                                                                                                                      \n",
       "921  can feel endofsemester panic just around corner excited come spring summer first present poster msc thesis two weeks sioptweets u0001f973\n",
       "274 crestwood elementary staff learned thai today learn feels english learner classroom know language                                         \n",
       "761  talentmetrics managers need recognize employees giving much                                                                              \n",
       "160 start career placement center stop upload resumes post job openings network candidates organizations teamsiop                             \n",
       "301 beneubanks hey beneubanks connect orgvitality speak jeffreysaltzman tops field                                                            "
      ]
     },
     "metadata": {},
     "output_type": "display_data"
    }
   ],
   "source": [
    "tweets_preprocessed %>%\n",
    "mutate(text = as.character(text))%>%\n",
    "select(text)%>%\n",
    "sample_n(size = 5)\n"
   ]
  },
  {
   "cell_type": "markdown",
   "metadata": {},
   "source": [
    "Now we need to create a corpus and convert our text into a document term matrix (rows are tweets, columns are n-grams)"
   ]
  },
  {
   "cell_type": "code",
   "execution_count": 12,
   "metadata": {},
   "outputs": [
    {
     "data": {
      "text/html": [
       "<table>\n",
       "<thead><tr><th scope=col>2019</th><th scope=col>academic</th><th scope=col>also</th><th scope=col>analytics</th><th scope=col>annual</th><th scope=col>another</th><th scope=col>app</th><th scope=col>april</th><th scope=col>article</th><th scope=col>attend</th><th scope=col>...</th><th scope=col>washington</th><th scope=col>way</th><th scope=col>week</th><th scope=col>well</th><th scope=col>will</th><th scope=col>work</th><th scope=col>workplace</th><th scope=col>year</th><th scope=col>years</th><th scope=col>youll</th></tr></thead>\n",
       "<tbody>\n",
       "\t<tr><td>0  </td><td>0  </td><td>0  </td><td>0  </td><td>0  </td><td>0  </td><td>0  </td><td>0  </td><td>0  </td><td>0  </td><td>...</td><td>0  </td><td>0  </td><td>0  </td><td>0  </td><td>0  </td><td>0  </td><td>0  </td><td>0  </td><td>0  </td><td>0  </td></tr>\n",
       "\t<tr><td>0  </td><td>0  </td><td>0  </td><td>0  </td><td>0  </td><td>0  </td><td>0  </td><td>0  </td><td>0  </td><td>0  </td><td>...</td><td>0  </td><td>0  </td><td>0  </td><td>0  </td><td>0  </td><td>0  </td><td>0  </td><td>0  </td><td>0  </td><td>0  </td></tr>\n",
       "\t<tr><td>0  </td><td>0  </td><td>0  </td><td>0  </td><td>0  </td><td>0  </td><td>0  </td><td>0  </td><td>0  </td><td>0  </td><td>...</td><td>0  </td><td>0  </td><td>0  </td><td>0  </td><td>0  </td><td>0  </td><td>0  </td><td>0  </td><td>0  </td><td>0  </td></tr>\n",
       "\t<tr><td>0  </td><td>0  </td><td>0  </td><td>0  </td><td>0  </td><td>0  </td><td>0  </td><td>0  </td><td>0  </td><td>0  </td><td>...</td><td>0  </td><td>0  </td><td>0  </td><td>0  </td><td>0  </td><td>0  </td><td>1  </td><td>0  </td><td>0  </td><td>0  </td></tr>\n",
       "\t<tr><td>0  </td><td>0  </td><td>0  </td><td>0  </td><td>0  </td><td>1  </td><td>0  </td><td>0  </td><td>0  </td><td>2  </td><td>...</td><td>0  </td><td>0  </td><td>0  </td><td>0  </td><td>0  </td><td>0  </td><td>0  </td><td>0  </td><td>0  </td><td>0  </td></tr>\n",
       "\t<tr><td>0  </td><td>0  </td><td>0  </td><td>0  </td><td>0  </td><td>0  </td><td>0  </td><td>0  </td><td>0  </td><td>0  </td><td>...</td><td>0  </td><td>0  </td><td>0  </td><td>0  </td><td>0  </td><td>0  </td><td>0  </td><td>0  </td><td>0  </td><td>0  </td></tr>\n",
       "</tbody>\n",
       "</table>\n"
      ],
      "text/latex": [
       "\\begin{tabular}{r|lllllllllllllllllllllllllllllllllllllllllllllllllllllllllllllllllllllllllllllllllllllllllllllllllllllllllllllllllllllllllllllllllllllllllllllllllllllllllllllllllllllllllllllllllllllllllllllllllllllllllll}\n",
       " 2019 & academic & also & analytics & annual & another & app & april & article & attend & ... & washington & way & week & well & will & work & workplace & year & years & youll\\\\\n",
       "\\hline\n",
       "\t 0   & 0   & 0   & 0   & 0   & 0   & 0   & 0   & 0   & 0   & ... & 0   & 0   & 0   & 0   & 0   & 0   & 0   & 0   & 0   & 0  \\\\\n",
       "\t 0   & 0   & 0   & 0   & 0   & 0   & 0   & 0   & 0   & 0   & ... & 0   & 0   & 0   & 0   & 0   & 0   & 0   & 0   & 0   & 0  \\\\\n",
       "\t 0   & 0   & 0   & 0   & 0   & 0   & 0   & 0   & 0   & 0   & ... & 0   & 0   & 0   & 0   & 0   & 0   & 0   & 0   & 0   & 0  \\\\\n",
       "\t 0   & 0   & 0   & 0   & 0   & 0   & 0   & 0   & 0   & 0   & ... & 0   & 0   & 0   & 0   & 0   & 0   & 1   & 0   & 0   & 0  \\\\\n",
       "\t 0   & 0   & 0   & 0   & 0   & 1   & 0   & 0   & 0   & 2   & ... & 0   & 0   & 0   & 0   & 0   & 0   & 0   & 0   & 0   & 0  \\\\\n",
       "\t 0   & 0   & 0   & 0   & 0   & 0   & 0   & 0   & 0   & 0   & ... & 0   & 0   & 0   & 0   & 0   & 0   & 0   & 0   & 0   & 0  \\\\\n",
       "\\end{tabular}\n"
      ],
      "text/markdown": [
       "\n",
       "| 2019 | academic | also | analytics | annual | another | app | april | article | attend | ... | washington | way | week | well | will | work | workplace | year | years | youll |\n",
       "|---|---|---|---|---|---|---|---|---|---|---|---|---|---|---|---|---|---|---|---|---|\n",
       "| 0   | 0   | 0   | 0   | 0   | 0   | 0   | 0   | 0   | 0   | ... | 0   | 0   | 0   | 0   | 0   | 0   | 0   | 0   | 0   | 0   |\n",
       "| 0   | 0   | 0   | 0   | 0   | 0   | 0   | 0   | 0   | 0   | ... | 0   | 0   | 0   | 0   | 0   | 0   | 0   | 0   | 0   | 0   |\n",
       "| 0   | 0   | 0   | 0   | 0   | 0   | 0   | 0   | 0   | 0   | ... | 0   | 0   | 0   | 0   | 0   | 0   | 0   | 0   | 0   | 0   |\n",
       "| 0   | 0   | 0   | 0   | 0   | 0   | 0   | 0   | 0   | 0   | ... | 0   | 0   | 0   | 0   | 0   | 0   | 1   | 0   | 0   | 0   |\n",
       "| 0   | 0   | 0   | 0   | 0   | 1   | 0   | 0   | 0   | 2   | ... | 0   | 0   | 0   | 0   | 0   | 0   | 0   | 0   | 0   | 0   |\n",
       "| 0   | 0   | 0   | 0   | 0   | 0   | 0   | 0   | 0   | 0   | ... | 0   | 0   | 0   | 0   | 0   | 0   | 0   | 0   | 0   | 0   |\n",
       "\n"
      ],
      "text/plain": [
       "  2019 academic also analytics annual another app april article attend ...\n",
       "1 0    0        0    0         0      0       0   0     0       0      ...\n",
       "2 0    0        0    0         0      0       0   0     0       0      ...\n",
       "3 0    0        0    0         0      0       0   0     0       0      ...\n",
       "4 0    0        0    0         0      0       0   0     0       0      ...\n",
       "5 0    0        0    0         0      1       0   0     0       2      ...\n",
       "6 0    0        0    0         0      0       0   0     0       0      ...\n",
       "  washington way week well will work workplace year years youll\n",
       "1 0          0   0    0    0    0    0         0    0     0    \n",
       "2 0          0   0    0    0    0    0         0    0     0    \n",
       "3 0          0   0    0    0    0    0         0    0     0    \n",
       "4 0          0   0    0    0    0    1         0    0     0    \n",
       "5 0          0   0    0    0    0    0         0    0     0    \n",
       "6 0          0   0    0    0    0    0         0    0     0    "
      ]
     },
     "metadata": {},
     "output_type": "display_data"
    }
   ],
   "source": [
    "tweets_corpus <- VCorpus(VectorSource(tweets_preprocessed$text))# Convert to corpus (structured set of texts)\n",
    "\n",
    "tweets_dtm <- DocumentTermMatrix(tweets_corpus) #create a document-term-matrix\n",
    "\n",
    "tweets_dtm <- removeSparseTerms(tweets_dtm, 0.99) # We'll also get rid of relatively unusual terms\n",
    "\n",
    "DTM_df <- as.data.frame(as.matrix(tweets_dtm)) #finally let's convert the dtm into a dataframe\n",
    "\n",
    "head(DTM_df)\n"
   ]
  },
  {
   "cell_type": "markdown",
   "metadata": {},
   "source": [
    "Now that our tweet text is clean, let's start to look the text a bit. We can visualize common words with a simple wordcloud."
   ]
  },
  {
   "cell_type": "code",
   "execution_count": 13,
   "metadata": {},
   "outputs": [
    {
     "data": {
      "image/png": "[encoded data removed]",
      "text/plain": [
       "plot without title"
      ]
     },
     "metadata": {},
     "output_type": "display_data"
    }
   ],
   "source": [
    "wordCounts <- colSums(DTM_df) #create word counts\n",
    "\n",
    "wordNames <- names(DTM_df) #label word counts with word name\n",
    "\n",
    "options(repr.plot.width=6, repr.plot.height=6) #resize word cloud\n",
    "\n",
    "wordcloud(wordNames, wordCounts, max.words=30,, colors = brewer.pal(8, \"Dark2\")) #create word cloud"
   ]
  },
  {
   "cell_type": "markdown",
   "metadata": {},
   "source": [
    "We can also look at the a list of the most frequent words"
   ]
  },
  {
   "cell_type": "code",
   "execution_count": 14,
   "metadata": {},
   "outputs": [
    {
     "name": "stderr",
     "output_type": "stream",
     "text": [
      "Selecting by wordCounts\n"
     ]
    },
    {
     "data": {
      "text/html": [
       "<table>\n",
       "<thead><tr><th scope=col>wordNames</th><th scope=col>wordCounts</th></tr></thead>\n",
       "<tbody>\n",
       "\t<tr><td>conference   </td><td>93           </td></tr>\n",
       "\t<tr><td>work         </td><td>88           </td></tr>\n",
       "\t<tr><td>will         </td><td>86           </td></tr>\n",
       "\t<tr><td>sioptweets   </td><td>78           </td></tr>\n",
       "\t<tr><td>can          </td><td>74           </td></tr>\n",
       "\t<tr><td>new          </td><td>72           </td></tr>\n",
       "\t<tr><td>talentmetrics</td><td>72           </td></tr>\n",
       "\t<tr><td>psychology   </td><td>71           </td></tr>\n",
       "\t<tr><td>learn        </td><td>67           </td></tr>\n",
       "\t<tr><td>people       </td><td>63           </td></tr>\n",
       "\t<tr><td>research     </td><td>63           </td></tr>\n",
       "\t<tr><td>april        </td><td>62           </td></tr>\n",
       "\t<tr><td>hrtribe      </td><td>58           </td></tr>\n",
       "\t<tr><td>get          </td><td>57           </td></tr>\n",
       "\t<tr><td>students     </td><td>55           </td></tr>\n",
       "</tbody>\n",
       "</table>\n"
      ],
      "text/latex": [
       "\\begin{tabular}{r|ll}\n",
       " wordNames & wordCounts\\\\\n",
       "\\hline\n",
       "\t conference    & 93           \\\\\n",
       "\t work          & 88           \\\\\n",
       "\t will          & 86           \\\\\n",
       "\t sioptweets    & 78           \\\\\n",
       "\t can           & 74           \\\\\n",
       "\t new           & 72           \\\\\n",
       "\t talentmetrics & 72           \\\\\n",
       "\t psychology    & 71           \\\\\n",
       "\t learn         & 67           \\\\\n",
       "\t people        & 63           \\\\\n",
       "\t research      & 63           \\\\\n",
       "\t april         & 62           \\\\\n",
       "\t hrtribe       & 58           \\\\\n",
       "\t get           & 57           \\\\\n",
       "\t students      & 55           \\\\\n",
       "\\end{tabular}\n"
      ],
      "text/markdown": [
       "\n",
       "| wordNames | wordCounts |\n",
       "|---|---|\n",
       "| conference    | 93            |\n",
       "| work          | 88            |\n",
       "| will          | 86            |\n",
       "| sioptweets    | 78            |\n",
       "| can           | 74            |\n",
       "| new           | 72            |\n",
       "| talentmetrics | 72            |\n",
       "| psychology    | 71            |\n",
       "| learn         | 67            |\n",
       "| people        | 63            |\n",
       "| research      | 63            |\n",
       "| april         | 62            |\n",
       "| hrtribe       | 58            |\n",
       "| get           | 57            |\n",
       "| students      | 55            |\n",
       "\n"
      ],
      "text/plain": [
       "   wordNames     wordCounts\n",
       "1  conference    93        \n",
       "2  work          88        \n",
       "3  will          86        \n",
       "4  sioptweets    78        \n",
       "5  can           74        \n",
       "6  new           72        \n",
       "7  talentmetrics 72        \n",
       "8  psychology    71        \n",
       "9  learn         67        \n",
       "10 people        63        \n",
       "11 research      63        \n",
       "12 april         62        \n",
       "13 hrtribe       58        \n",
       "14 get           57        \n",
       "15 students      55        "
      ]
     },
     "metadata": {},
     "output_type": "display_data"
    }
   ],
   "source": [
    "tibble(wordNames, wordCounts) %>% arrange(desc(wordCounts)) %>% top_n(15)"
   ]
  },
  {
   "cell_type": "markdown",
   "metadata": {},
   "source": [
    "### Machine Learning"
   ]
  },
  {
   "cell_type": "markdown",
   "metadata": {},
   "source": [
    "A ML algorithm refers to a computer program that learns from data to generate predictions. Machine learning isn't all that different from our normal modeling approaches (think OLS linear regression), but machine learning typically has a different goal.\n",
    "\n",
    "Traditionally, our **traditional analyses** are focused on _\"given this theory, how well do the data describe y?\"_ \n",
    "* The primary goal is interpretability of regression coefficients and ultimately draw conclusions about our predictors\n",
    "\n",
    "In contrast, **machine learning** is focused on _\"given this data, what algorithm and features will best predict y in other datasets?\"_ \n",
    "* The primary goal is generalizable prediction, typically at the cost of  interpretability of coefficients. \n",
    "* Machine learning explicitly addresses the bias-variance trade-off, which optimizes model complexity such that we are not overfitting to one dataset but also so that we're maximizing prediction. \n",
    "\n",
    "There a few types of machine learning: "
   ]
  },
  {
   "cell_type": "markdown",
   "metadata": {
    "slideshow": {
     "slide_type": "skip"
    }
   },
   "source": [
    "![alt text](https://github.com/TNT-Lab/SIOP-2019-IO-Data-Science-Master-Tutorial/blob/master/notebookpictures/MLpicture.png?raw=true)"
   ]
  },
  {
   "cell_type": "markdown",
   "metadata": {},
   "source": [
    "There are also quite a few decision points:\n",
    "* model selection (random forest, support vector machines, elastic net)\n",
    "* parameter selection (variables and parameter estimation)\n",
    "* hyperparameter selection (configuration options for each model) \n",
    "\n",
    "Typically you make these decision (or the algorithm does for you) empirically. In other words, many of these decisions are made based on out of sample model performance. \n",
    "\n",
    "Finally, there are a few key situations in which machine learning models are particularly useful (Putka, Beatty & Reeder, 2017):"
   ]
  },
  {
   "cell_type": "markdown",
   "metadata": {
    "slideshow": {
     "slide_type": "skip"
    }
   },
   "source": [
    "![alt text](https://github.com/TNT-Lab/SIOP-2019-IO-Data-Science-Master-Tutorial/blob/master/notebookpictures/MLpicture2.png?raw=true)"
   ]
  },
  {
   "cell_type": "markdown",
   "metadata": {},
   "source": [
    "If you're interested in learning more about using machine learning in IO, I would recommend this paper:\n",
    "\n",
    "Putka, D. J., Beatty, A. S., & Reeder, M. C. (2018). Modern prediction methods: New perspectives on a common problem. _Organizational Research Methods, 21_(3), 689-732.\n"
   ]
  },
  {
   "cell_type": "markdown",
   "metadata": {},
   "source": [
    "Now back to our tweets. Say we want to predict retweets and favorite counts by the words used in a tweet."
   ]
  },
  {
   "cell_type": "markdown",
   "metadata": {},
   "source": [
    "Again, let's load our libraries"
   ]
  },
  {
   "cell_type": "code",
   "execution_count": 15,
   "metadata": {},
   "outputs": [
    {
     "name": "stderr",
     "output_type": "stream",
     "text": [
      "Warning message:\n",
      "\"package 'caret' was built under R version 3.5.2\"Loading required package: lattice\n",
      "Loading required package: ggplot2\n",
      "\n",
      "Attaching package: 'ggplot2'\n",
      "\n",
      "The following object is masked from 'package:NLP':\n",
      "\n",
      "    annotate\n",
      "\n",
      "Loading required package: Matrix\n",
      "Loading required package: foreach\n",
      "Loaded glmnet 2.0-16\n",
      "\n",
      "Warning message:\n",
      "\"package 'gbm' was built under R version 3.5.2\"Loaded gbm 2.1.5\n",
      "Warning message:\n",
      "\"package 'kernlab' was built under R version 3.5.2\"\n",
      "Attaching package: 'kernlab'\n",
      "\n",
      "The following object is masked from 'package:ggplot2':\n",
      "\n",
      "    alpha\n",
      "\n"
     ]
    }
   ],
   "source": [
    "library(caret)\n",
    "library(glmnet)\n",
    "library(gbm)\n",
    "library(kernlab)"
   ]
  },
  {
   "cell_type": "markdown",
   "metadata": {},
   "source": [
    "We need to do a bit of data cleaning first.\n",
    "\n",
    "We'll operationalize **\"tweet popularity\"** as a composite of favorites and likes per tweet. "
   ]
  },
  {
   "cell_type": "code",
   "execution_count": 16,
   "metadata": {},
   "outputs": [
    {
     "data": {
      "text/html": [
       "<table>\n",
       "<thead><tr><th scope=col>ID</th><th scope=col>tweet_popularity</th><th scope=col>2019</th><th scope=col>academic</th><th scope=col>also</th><th scope=col>analytics</th><th scope=col>annual</th><th scope=col>another</th><th scope=col>app</th><th scope=col>april</th><th scope=col>...</th><th scope=col>washington</th><th scope=col>way</th><th scope=col>week</th><th scope=col>well</th><th scope=col>will</th><th scope=col>work</th><th scope=col>workplace</th><th scope=col>year</th><th scope=col>years</th><th scope=col>youll</th></tr></thead>\n",
       "<tbody>\n",
       "\t<tr><td>1  </td><td>106</td><td>0  </td><td>0  </td><td>0  </td><td>0  </td><td>0  </td><td>0  </td><td>0  </td><td>0  </td><td>...</td><td>0  </td><td>0  </td><td>0  </td><td>0  </td><td>0  </td><td>0  </td><td>0  </td><td>0  </td><td>0  </td><td>0  </td></tr>\n",
       "\t<tr><td>2  </td><td>105</td><td>0  </td><td>0  </td><td>0  </td><td>0  </td><td>0  </td><td>0  </td><td>0  </td><td>0  </td><td>...</td><td>0  </td><td>0  </td><td>0  </td><td>0  </td><td>0  </td><td>0  </td><td>0  </td><td>0  </td><td>0  </td><td>0  </td></tr>\n",
       "\t<tr><td>3  </td><td> 98</td><td>0  </td><td>0  </td><td>0  </td><td>0  </td><td>0  </td><td>0  </td><td>0  </td><td>0  </td><td>...</td><td>0  </td><td>0  </td><td>0  </td><td>0  </td><td>0  </td><td>0  </td><td>0  </td><td>0  </td><td>0  </td><td>0  </td></tr>\n",
       "\t<tr><td>4  </td><td> 87</td><td>0  </td><td>0  </td><td>0  </td><td>0  </td><td>0  </td><td>0  </td><td>0  </td><td>0  </td><td>...</td><td>0  </td><td>0  </td><td>0  </td><td>0  </td><td>0  </td><td>0  </td><td>1  </td><td>0  </td><td>0  </td><td>0  </td></tr>\n",
       "\t<tr><td>5  </td><td> 92</td><td>0  </td><td>0  </td><td>0  </td><td>0  </td><td>0  </td><td>1  </td><td>0  </td><td>0  </td><td>...</td><td>0  </td><td>0  </td><td>0  </td><td>0  </td><td>0  </td><td>0  </td><td>0  </td><td>0  </td><td>0  </td><td>0  </td></tr>\n",
       "\t<tr><td>6  </td><td> 78</td><td>0  </td><td>0  </td><td>0  </td><td>0  </td><td>0  </td><td>0  </td><td>0  </td><td>0  </td><td>...</td><td>0  </td><td>0  </td><td>0  </td><td>0  </td><td>0  </td><td>0  </td><td>0  </td><td>0  </td><td>0  </td><td>0  </td></tr>\n",
       "</tbody>\n",
       "</table>\n"
      ],
      "text/latex": [
       "\\begin{tabular}{r|lllllllllllllllllllllllllllllllllllllllllllllllllllllllllllllllllllllllllllllllllllllllllllllllllllllllllllllllllllllllllllllllllllllllllllllllllllllllllllllllllllllllllllllllllllllllllllllllllllllllllllll}\n",
       " ID & tweet\\_popularity & 2019 & academic & also & analytics & annual & another & app & april & ... & washington & way & week & well & will & work & workplace & year & years & youll\\\\\n",
       "\\hline\n",
       "\t 1   & 106 & 0   & 0   & 0   & 0   & 0   & 0   & 0   & 0   & ... & 0   & 0   & 0   & 0   & 0   & 0   & 0   & 0   & 0   & 0  \\\\\n",
       "\t 2   & 105 & 0   & 0   & 0   & 0   & 0   & 0   & 0   & 0   & ... & 0   & 0   & 0   & 0   & 0   & 0   & 0   & 0   & 0   & 0  \\\\\n",
       "\t 3   &  98 & 0   & 0   & 0   & 0   & 0   & 0   & 0   & 0   & ... & 0   & 0   & 0   & 0   & 0   & 0   & 0   & 0   & 0   & 0  \\\\\n",
       "\t 4   &  87 & 0   & 0   & 0   & 0   & 0   & 0   & 0   & 0   & ... & 0   & 0   & 0   & 0   & 0   & 0   & 1   & 0   & 0   & 0  \\\\\n",
       "\t 5   &  92 & 0   & 0   & 0   & 0   & 0   & 1   & 0   & 0   & ... & 0   & 0   & 0   & 0   & 0   & 0   & 0   & 0   & 0   & 0  \\\\\n",
       "\t 6   &  78 & 0   & 0   & 0   & 0   & 0   & 0   & 0   & 0   & ... & 0   & 0   & 0   & 0   & 0   & 0   & 0   & 0   & 0   & 0  \\\\\n",
       "\\end{tabular}\n"
      ],
      "text/markdown": [
       "\n",
       "| ID | tweet_popularity | 2019 | academic | also | analytics | annual | another | app | april | ... | washington | way | week | well | will | work | workplace | year | years | youll |\n",
       "|---|---|---|---|---|---|---|---|---|---|---|---|---|---|---|---|---|---|---|---|---|\n",
       "| 1   | 106 | 0   | 0   | 0   | 0   | 0   | 0   | 0   | 0   | ... | 0   | 0   | 0   | 0   | 0   | 0   | 0   | 0   | 0   | 0   |\n",
       "| 2   | 105 | 0   | 0   | 0   | 0   | 0   | 0   | 0   | 0   | ... | 0   | 0   | 0   | 0   | 0   | 0   | 0   | 0   | 0   | 0   |\n",
       "| 3   |  98 | 0   | 0   | 0   | 0   | 0   | 0   | 0   | 0   | ... | 0   | 0   | 0   | 0   | 0   | 0   | 0   | 0   | 0   | 0   |\n",
       "| 4   |  87 | 0   | 0   | 0   | 0   | 0   | 0   | 0   | 0   | ... | 0   | 0   | 0   | 0   | 0   | 0   | 1   | 0   | 0   | 0   |\n",
       "| 5   |  92 | 0   | 0   | 0   | 0   | 0   | 1   | 0   | 0   | ... | 0   | 0   | 0   | 0   | 0   | 0   | 0   | 0   | 0   | 0   |\n",
       "| 6   |  78 | 0   | 0   | 0   | 0   | 0   | 0   | 0   | 0   | ... | 0   | 0   | 0   | 0   | 0   | 0   | 0   | 0   | 0   | 0   |\n",
       "\n"
      ],
      "text/plain": [
       "  ID tweet_popularity 2019 academic also analytics annual another app april ...\n",
       "1 1  106              0    0        0    0         0      0       0   0     ...\n",
       "2 2  105              0    0        0    0         0      0       0   0     ...\n",
       "3 3   98              0    0        0    0         0      0       0   0     ...\n",
       "4 4   87              0    0        0    0         0      0       0   0     ...\n",
       "5 5   92              0    0        0    0         0      1       0   0     ...\n",
       "6 6   78              0    0        0    0         0      0       0   0     ...\n",
       "  washington way week well will work workplace year years youll\n",
       "1 0          0   0    0    0    0    0         0    0     0    \n",
       "2 0          0   0    0    0    0    0         0    0     0    \n",
       "3 0          0   0    0    0    0    0         0    0     0    \n",
       "4 0          0   0    0    0    0    1         0    0     0    \n",
       "5 0          0   0    0    0    0    0         0    0     0    \n",
       "6 0          0   0    0    0    0    0         0    0     0    "
      ]
     },
     "metadata": {},
     "output_type": "display_data"
    }
   ],
   "source": [
    "# create tweet popularity score\n",
    "tweet_popularity <- mutate(tweets_preprocessed, tweet_popularity = favorite_count + retweet_count) %>%\n",
    "select(tweet_popularity)\n",
    "\n",
    "#add these scores to our document term matrix (our predictors)\n",
    "model_data <- cbind(DTM_df, tweet_popularity)\n",
    "\n",
    "#also add in tweet ID number so that we have an ID\n",
    "model_data$ID <- seq.int(nrow(model_data))\n",
    "\n",
    "#move ID and tweet popularity to front of dataset (for easy accessiblity)\n",
    "model_data <- select(model_data, ID, tweet_popularity, everything())\n",
    "head(model_data)\n"
   ]
  },
  {
   "cell_type": "markdown",
   "metadata": {},
   "source": [
    "We'll be using the Caret R Package (https://topepo.github.io/caret/)\n",
    "* Caret actually does contain any machine learning algorithms\n",
    "* Caret provides a common framework/syntax to access many other packages that do contain machine learning algorithms\n",
    "* Caret centralizes tuning of hyperparameters across algorithms\n",
    "* Caret allows you to run multiple machine learning algorithms using the same framework\n"
   ]
  },
  {
   "cell_type": "markdown",
   "metadata": {},
   "source": [
    "We'll first set a seed for reproducibility of our results. There are a lot of \"random\" parameters so you might try a few seed and make sure your results don't change dramatically. \n",
    "\n",
    "We'll also set up a set up a training and a test set. Here we're using an 80/20 split. Our models will be trained on 80% of the data and we will test our model on 20% of the data. This will give us an estimate of how well our models perform out-of-sample.\n",
    "\n",
    "In addition, we'll set up a k-fold cross validation training the model on the training set. The data is divided into k sub datasets (in our case, 5). Each k-fold is used as a holdout sample and model performance is then averaged across all folds. This helps with over and underfitting to the training set."
   ]
  },
  {
   "cell_type": "code",
   "execution_count": 17,
   "metadata": {},
   "outputs": [],
   "source": [
    "#set seed for reproducibility\n",
    "set.seed(167)\n",
    "\n",
    "# let's create a holdout dataset\n",
    "index <- createDataPartition(model_data$ID, p=0.80, list=FALSE)\n",
    "training_df <- model_data[index,]\n",
    "test_df <- model_data[-index,]\n",
    "\n",
    "# create Kfold index\n",
    "index <- createFolds(training_df$ID, k=5)\n",
    "\n",
    "#clean up our final datasets\n",
    "training_df<-training_df[-1] #remove id var\n",
    "test_df<-test_df[-1] # remove id var"
   ]
  },
  {
   "cell_type": "markdown",
   "metadata": {},
   "source": [
    "Next, we need to decide which models to use. There are a ton (see https://topepo.github.io/caret/available-models.html for a list).\n",
    "\n",
    "For this demonstration we'll use three:\n",
    "\n",
    "* Elastic Net (glmnet)\n",
    "* Stochastic Gradient Boosting (gbm)\n",
    "* Support Vector Machines with Linear Kernel (svmLinear)\n",
    "\n",
    "\n",
    "Here are a few \"gentle introduction\" resources for understanding each:\n",
    "\n",
    "Elastic Net: https://towardsdatascience.com/regression-analysis-lasso-ridge-and-elastic-net-9e65dc61d6d3\n",
    "\n",
    "Stochastic Gradient Boosting: https://towardsdatascience.com/understanding-gradient-boosting-machines-9be756fe76ab\n",
    "\n",
    "Support Vector Machines: https://towardsdatascience.com/support-vector-machine-introduction-to-machine-learning-algorithms-934a444fca47"
   ]
  },
  {
   "cell_type": "code",
   "execution_count": 18,
   "metadata": {},
   "outputs": [],
   "source": [
    "# let's set up vectors of algorithms to look at\n",
    "algo_vec <- c(\"glmnet\", \"gbm\", \"svmLinear\")"
   ]
  },
  {
   "cell_type": "markdown",
   "metadata": {},
   "source": [
    "Now we can use Caret to run each of the algorithms on our data. This function creates a results data frame that includes each of the models we specified above as well as the out-of-sample validity (the correlation between the predicted tweet popularity scores and the actual tweet popularity scores). Once you run this, you should get a bunch of output that will show you each step of the training process for each model."
   ]
  },
  {
   "cell_type": "code",
   "execution_count": 19,
   "metadata": {},
   "outputs": [
    {
     "name": "stdout",
     "output_type": "stream",
     "text": [
      "+ Fold1: alpha=0.100, lambda=39.8 \n",
      "- Fold1: alpha=0.100, lambda=39.8 \n",
      "+ Fold1: alpha=0.325, lambda=39.8 \n",
      "- Fold1: alpha=0.325, lambda=39.8 \n",
      "+ Fold1: alpha=0.550, lambda=39.8 \n",
      "- Fold1: alpha=0.550, lambda=39.8 \n",
      "+ Fold1: alpha=0.775, lambda=39.8 \n",
      "- Fold1: alpha=0.775, lambda=39.8 \n",
      "+ Fold1: alpha=1.000, lambda=39.8 \n",
      "- Fold1: alpha=1.000, lambda=39.8 \n",
      "+ Fold2: alpha=0.100, lambda=39.8 \n",
      "- Fold2: alpha=0.100, lambda=39.8 \n",
      "+ Fold2: alpha=0.325, lambda=39.8 \n",
      "- Fold2: alpha=0.325, lambda=39.8 \n",
      "+ Fold2: alpha=0.550, lambda=39.8 \n",
      "- Fold2: alpha=0.550, lambda=39.8 \n",
      "+ Fold2: alpha=0.775, lambda=39.8 \n",
      "- Fold2: alpha=0.775, lambda=39.8 \n",
      "+ Fold2: alpha=1.000, lambda=39.8 \n",
      "- Fold2: alpha=1.000, lambda=39.8 \n",
      "+ Fold3: alpha=0.100, lambda=39.8 \n",
      "- Fold3: alpha=0.100, lambda=39.8 \n",
      "+ Fold3: alpha=0.325, lambda=39.8 \n",
      "- Fold3: alpha=0.325, lambda=39.8 \n",
      "+ Fold3: alpha=0.550, lambda=39.8 \n",
      "- Fold3: alpha=0.550, lambda=39.8 \n",
      "+ Fold3: alpha=0.775, lambda=39.8 \n",
      "- Fold3: alpha=0.775, lambda=39.8 \n",
      "+ Fold3: alpha=1.000, lambda=39.8 \n",
      "- Fold3: alpha=1.000, lambda=39.8 \n",
      "+ Fold4: alpha=0.100, lambda=39.8 \n",
      "- Fold4: alpha=0.100, lambda=39.8 \n",
      "+ Fold4: alpha=0.325, lambda=39.8 \n",
      "- Fold4: alpha=0.325, lambda=39.8 \n",
      "+ Fold4: alpha=0.550, lambda=39.8 \n",
      "- Fold4: alpha=0.550, lambda=39.8 \n",
      "+ Fold4: alpha=0.775, lambda=39.8 \n",
      "- Fold4: alpha=0.775, lambda=39.8 \n",
      "+ Fold4: alpha=1.000, lambda=39.8 \n",
      "- Fold4: alpha=1.000, lambda=39.8 \n",
      "+ Fold5: alpha=0.100, lambda=39.8 \n",
      "- Fold5: alpha=0.100, lambda=39.8 \n",
      "+ Fold5: alpha=0.325, lambda=39.8 \n",
      "- Fold5: alpha=0.325, lambda=39.8 \n",
      "+ Fold5: alpha=0.550, lambda=39.8 \n",
      "- Fold5: alpha=0.550, lambda=39.8 \n",
      "+ Fold5: alpha=0.775, lambda=39.8 \n",
      "- Fold5: alpha=0.775, lambda=39.8 \n",
      "+ Fold5: alpha=1.000, lambda=39.8 \n",
      "- Fold5: alpha=1.000, lambda=39.8 \n",
      "Aggregating results\n",
      "Selecting tuning parameters\n",
      "Fitting alpha = 1, lambda = 39.8 on full training set\n",
      "+ Fold1: shrinkage=0.1, interaction.depth=1, n.minobsinnode=10, n.trees=250 \n",
      "Iter   TrainDeviance   ValidDeviance   StepSize   Improve\n",
      "     1   454869.9787             nan     0.1000 -170.1735\n",
      "     2   453410.8090             nan     0.1000  973.2335\n",
      "     3   453431.1440             nan     0.1000 -183.6679\n",
      "     4   453336.7605             nan     0.1000 -579.2814\n",
      "     5   453446.3169             nan     0.1000 -2583.9610\n",
      "     6   452192.7587             nan     0.1000  824.5712\n",
      "     7   452367.5913             nan     0.1000 -1066.7439\n",
      "     8   452275.9619             nan     0.1000   29.6013\n",
      "     9   452168.2576             nan     0.1000 -134.8735\n",
      "    10   452276.4125             nan     0.1000 -566.7407\n",
      "    20   450911.7974             nan     0.1000 -451.3329\n",
      "    40   448425.9277             nan     0.1000 -1518.7641\n",
      "    60   447680.2299             nan     0.1000   -7.2030\n",
      "    80   447699.5909             nan     0.1000 -2397.3606\n",
      "   100   446581.9713             nan     0.1000 -543.8272\n",
      "   120   446484.5952             nan     0.1000  222.7527\n",
      "   140   445475.7100             nan     0.1000  -80.9266\n",
      "   160   444434.6078             nan     0.1000 -1855.5233\n",
      "   180   441708.5068             nan     0.1000  -30.4716\n",
      "   200   441900.9425             nan     0.1000 -531.2152\n",
      "   220   440574.4225             nan     0.1000 -132.6314\n",
      "   240   440343.0287             nan     0.1000  -29.7424\n",
      "   250   439524.4762             nan     0.1000 -646.3347\n",
      "\n",
      "- Fold1: shrinkage=0.1, interaction.depth=1, n.minobsinnode=10, n.trees=250 \n",
      "+ Fold1: shrinkage=0.1, interaction.depth=2, n.minobsinnode=10, n.trees=250 \n",
      "Iter   TrainDeviance   ValidDeviance   StepSize   Improve\n",
      "     1   454863.1705             nan     0.1000  -28.6807\n",
      "     2   454923.0573             nan     0.1000 -1642.0936\n",
      "     3   454896.2067             nan     0.1000  -18.8450\n",
      "     4   454865.9175             nan     0.1000 -216.1549\n",
      "     5   454873.4945             nan     0.1000 -573.8229\n",
      "     6   453166.3911             nan     0.1000  236.4166\n",
      "     7   453085.8549             nan     0.1000 -166.7769\n",
      "     8   453090.1023             nan     0.1000   -9.8541\n",
      "     9   453227.3182             nan     0.1000 -1001.8782\n",
      "    10   452018.7667             nan     0.1000  772.2794\n",
      "    20   451313.8628             nan     0.1000   44.3092\n",
      "    40   447486.6143             nan     0.1000 -437.1221\n",
      "    60   447161.4920             nan     0.1000 -1479.3262\n",
      "    80   447016.1621             nan     0.1000 -1707.6753\n",
      "   100   446639.2375             nan     0.1000 -234.5069\n",
      "   120   446475.2792             nan     0.1000 -1462.6797\n",
      "   140   446038.5358             nan     0.1000  -70.9480\n",
      "   160   445709.4378             nan     0.1000 -320.1083\n",
      "   180   444683.6763             nan     0.1000  -28.8251\n",
      "   200   444354.7261             nan     0.1000 -1396.7778\n",
      "   220   443605.8112             nan     0.1000 -460.7627\n",
      "   240   443365.4642             nan     0.1000 -706.3184\n",
      "   250   443176.2124             nan     0.1000   75.3819\n",
      "\n",
      "- Fold1: shrinkage=0.1, interaction.depth=2, n.minobsinnode=10, n.trees=250 \n",
      "+ Fold1: shrinkage=0.1, interaction.depth=3, n.minobsinnode=10, n.trees=250 \n",
      "Iter   TrainDeviance   ValidDeviance   StepSize   Improve\n",
      "     1   454871.1028             nan     0.1000 -193.5362\n",
      "     2   454893.9463             nan     0.1000 -174.3450\n",
      "     3   454795.2389             nan     0.1000 -1991.6844\n",
      "     4   454806.2517             nan     0.1000 -179.3838\n",
      "     5   454804.1121             nan     0.1000  -15.1067\n",
      "     6   453218.4051             nan     0.1000  819.1475\n",
      "     7   453228.3794             nan     0.1000 -975.2563\n",
      "     8   451971.2614             nan     0.1000  679.8374\n",
      "     9   450961.3795             nan     0.1000  495.1112\n",
      "    10   450975.3201             nan     0.1000 -179.5115\n",
      "    20   449375.8408             nan     0.1000  -10.7293\n",
      "    40   448533.9902             nan     0.1000   98.4050\n",
      "    60   445177.6926             nan     0.1000 -262.0031\n",
      "    80   444919.8567             nan     0.1000  -24.9716\n",
      "   100   444654.0256             nan     0.1000 -3098.3897\n",
      "   120   444133.0686             nan     0.1000 -109.2102\n",
      "   140   444459.1577             nan     0.1000 -219.0510\n",
      "   160   443847.6153             nan     0.1000 -945.0587\n",
      "   180   443536.0968             nan     0.1000 -277.0939\n",
      "   200   442015.3827             nan     0.1000 -668.8236\n",
      "   220   440503.1758             nan     0.1000 -228.2254\n",
      "   240   439684.3475             nan     0.1000 -157.7038\n",
      "   250   439478.1577             nan     0.1000 -532.9166\n",
      "\n",
      "- Fold1: shrinkage=0.1, interaction.depth=3, n.minobsinnode=10, n.trees=250 \n",
      "+ Fold1: shrinkage=0.1, interaction.depth=4, n.minobsinnode=10, n.trees=250 \n",
      "Iter   TrainDeviance   ValidDeviance   StepSize   Improve\n",
      "     1   454870.0354             nan     0.1000 -171.3519\n",
      "     2   453654.6743             nan     0.1000  743.3326\n",
      "     3   453609.4106             nan     0.1000 -564.6961\n",
      "     4   453667.7198             nan     0.1000 -985.9649\n",
      "     5   452305.6060             nan     0.1000  714.1172\n",
      "     6   452293.1061             nan     0.1000  -22.4116\n",
      "     7   452314.7655             nan     0.1000 -157.8183\n",
      "     8   452297.9021             nan     0.1000  -26.2656\n",
      "     9   452283.2395             nan     0.1000 -218.8856\n",
      "    10   452292.6222             nan     0.1000 -173.2771\n",
      "    20   450445.8125             nan     0.1000  281.6303\n",
      "    40   447917.7824             nan     0.1000   51.0758\n",
      "    60   447127.6314             nan     0.1000 -284.0965\n",
      "    80   444949.7794             nan     0.1000 -1047.5569\n",
      "   100   444698.8125             nan     0.1000 -156.3501\n",
      "   120   444374.8759             nan     0.1000    8.5459\n",
      "   140   444389.4990             nan     0.1000 -190.0453\n",
      "   160   443746.9179             nan     0.1000 -548.1924\n",
      "   180   442277.5168             nan     0.1000  -65.5536\n",
      "   200   442178.1844             nan     0.1000 -628.4126\n",
      "   220   440988.1802             nan     0.1000 -1958.2678\n",
      "   240   439904.3713             nan     0.1000 -1846.6530\n",
      "   250   440087.2135             nan     0.1000 -123.0928\n",
      "\n",
      "- Fold1: shrinkage=0.1, interaction.depth=4, n.minobsinnode=10, n.trees=250 \n",
      "+ Fold1: shrinkage=0.1, interaction.depth=5, n.minobsinnode=10, n.trees=250 \n",
      "Iter   TrainDeviance   ValidDeviance   StepSize   Improve\n",
      "     1   453388.9625             nan     0.1000 1105.0863\n",
      "     2   452371.6026             nan     0.1000  420.5385\n",
      "     3   451053.7766             nan     0.1000 -1043.0396\n",
      "     4   451068.9294             nan     0.1000 -2573.4015\n",
      "     5   451027.4176             nan     0.1000 -572.0113\n",
      "     6   450588.4059             nan     0.1000 -662.9464\n",
      "     7   449984.0860             nan     0.1000  442.1053\n",
      "     8   450083.3555             nan     0.1000 -988.7580\n",
      "     9   449578.4519             nan     0.1000  376.4129\n",
      "    10   448908.7028             nan     0.1000 -248.6652\n",
      "    20   448302.5969             nan     0.1000 -1062.5936\n",
      "    40   447035.8208             nan     0.1000 -608.0141\n",
      "    60   444780.9461             nan     0.1000  -20.7987\n",
      "    80   444517.9718             nan     0.1000   37.2307\n",
      "   100   444375.9444             nan     0.1000 -236.4344\n",
      "   120   444039.5898             nan     0.1000 -113.6961\n",
      "   140   444001.3378             nan     0.1000 -259.8347\n",
      "   160   442412.8595             nan     0.1000 -975.0896\n",
      "   180   442448.0184             nan     0.1000 -1132.5977\n",
      "   200   442374.7882             nan     0.1000 -1010.1744\n",
      "   220   442370.5710             nan     0.1000  -42.0202\n",
      "   240   442279.7702             nan     0.1000 -880.7070\n",
      "   250   442340.3285             nan     0.1000  -37.1116\n",
      "\n",
      "- Fold1: shrinkage=0.1, interaction.depth=5, n.minobsinnode=10, n.trees=250 \n",
      "+ Fold2: shrinkage=0.1, interaction.depth=1, n.minobsinnode=10, n.trees=250 \n",
      "Iter   TrainDeviance   ValidDeviance   StepSize   Improve\n",
      "     1   404269.6579             nan     0.1000  275.4584\n",
      "     2   402456.5080             nan     0.1000  958.5195\n",
      "     3   402618.4940             nan     0.1000 -1750.7659\n",
      "     4   400807.2991             nan     0.1000   77.9468\n",
      "     5   400804.4946             nan     0.1000    5.2683\n",
      "     6   400027.5831             nan     0.1000  118.5298\n",
      "     7   399971.5571             nan     0.1000 -203.8879\n",
      "     8   399810.9990             nan     0.1000 -338.9354\n",
      "     9   399812.7885             nan     0.1000  -19.8218\n",
      "    10   399096.5621             nan     0.1000  262.2535\n",
      "    20   397599.4252             nan     0.1000 -148.0643\n",
      "    40   395107.6207             nan     0.1000   39.7717\n",
      "    60   391773.4405             nan     0.1000 -726.6715\n",
      "    80   391327.3443             nan     0.1000  -87.9855\n",
      "   100   390809.7276             nan     0.1000 -146.0975\n",
      "   120   390573.7589             nan     0.1000 -1167.6181\n",
      "   140   389679.4313             nan     0.1000 -3603.5620\n",
      "   160   389146.3498             nan     0.1000 -1662.9433\n",
      "   180   389078.9593             nan     0.1000 -251.8843\n",
      "   200   388732.5462             nan     0.1000   16.3599\n",
      "   220   388686.3101             nan     0.1000 -2100.3408\n",
      "   240   388746.4666             nan     0.1000 -330.9119\n",
      "   250   387575.4260             nan     0.1000 -527.2841\n",
      "\n",
      "- Fold2: shrinkage=0.1, interaction.depth=1, n.minobsinnode=10, n.trees=250 \n",
      "+ Fold2: shrinkage=0.1, interaction.depth=2, n.minobsinnode=10, n.trees=250 \n",
      "Iter   TrainDeviance   ValidDeviance   StepSize   Improve\n",
      "     1   404646.4323             nan     0.1000 -1048.8021\n",
      "     2   404310.5030             nan     0.1000 -380.2361\n",
      "     3   402418.6515             nan     0.1000 -2046.4284\n",
      "     4   402124.8135             nan     0.1000 -506.4289\n",
      "     5   402621.1433             nan     0.1000 -3554.3564\n",
      "     6   402459.5902             nan     0.1000   72.4648\n",
      "     7   402215.9412             nan     0.1000  126.0265\n",
      "     8   402243.0486             nan     0.1000  -59.3709\n",
      "     9   401892.2372             nan     0.1000 -468.0689\n",
      "    10   400642.2993             nan     0.1000 -514.2696\n",
      "    20   396741.7099             nan     0.1000 -507.2185\n",
      "    40   393626.3768             nan     0.1000  -55.6587\n",
      "    60   391162.7097             nan     0.1000 -427.3625\n",
      "    80   390276.3383             nan     0.1000  196.9918\n",
      "   100   390396.9737             nan     0.1000 -1207.7846\n",
      "   120   389356.9218             nan     0.1000 -461.2211\n",
      "   140   388993.4277             nan     0.1000 -778.1742\n",
      "   160   388847.4735             nan     0.1000 -460.2198\n",
      "   180   388985.9778             nan     0.1000 -1947.5479\n",
      "   200   387564.8163             nan     0.1000  -61.2900\n",
      "   220   387676.8454             nan     0.1000  -23.8085\n",
      "   240   387694.8107             nan     0.1000 -1120.7149\n",
      "   250   385676.8644             nan     0.1000 -244.2052\n",
      "\n",
      "- Fold2: shrinkage=0.1, interaction.depth=2, n.minobsinnode=10, n.trees=250 \n",
      "+ Fold2: shrinkage=0.1, interaction.depth=3, n.minobsinnode=10, n.trees=250 \n",
      "Iter   TrainDeviance   ValidDeviance   StepSize   Improve\n",
      "     1   404597.6022             nan     0.1000  -23.3711\n",
      "     2   404600.9317             nan     0.1000 -196.7021\n",
      "     3   404604.6790             nan     0.1000  -18.2983\n",
      "     4   403213.2690             nan     0.1000 1298.9769\n",
      "     5   403246.2287             nan     0.1000 -1762.3579\n",
      "     6   403278.7126             nan     0.1000 -153.0146\n",
      "     7   402970.7977             nan     0.1000   22.5826\n",
      "     8   403219.1620             nan     0.1000 -1696.3695\n",
      "     9   403771.7707             nan     0.1000 -3406.8202\n",
      "    10   403427.6901             nan     0.1000  -56.7088\n",
      "    20   398186.0157             nan     0.1000 -1900.9747\n",
      "    40   393270.3495             nan     0.1000   18.9985\n",
      "    60   392813.0696             nan     0.1000 -1062.7563\n",
      "    80   391349.2607             nan     0.1000  186.3684\n",
      "   100   390687.6397             nan     0.1000 -1565.0876\n",
      "   120   389931.7616             nan     0.1000 -945.7884\n",
      "   140   389641.7392             nan     0.1000 -514.3676\n",
      "   160   389261.9902             nan     0.1000   -1.5161\n",
      "   180   388501.4026             nan     0.1000    5.6028\n",
      "   200   389040.9322             nan     0.1000 -1243.5673\n",
      "   220   387712.9967             nan     0.1000  -41.0386\n",
      "   240   386877.1336             nan     0.1000  -81.6165\n",
      "   250   386055.4648             nan     0.1000   59.9282\n",
      "\n",
      "- Fold2: shrinkage=0.1, interaction.depth=3, n.minobsinnode=10, n.trees=250 \n",
      "+ Fold2: shrinkage=0.1, interaction.depth=4, n.minobsinnode=10, n.trees=250 \n",
      "Iter   TrainDeviance   ValidDeviance   StepSize   Improve\n",
      "     1   404605.3710             nan     0.1000 -186.5159\n",
      "     2   403210.4699             nan     0.1000  908.9066\n",
      "     3   401438.5913             nan     0.1000 -937.5250\n",
      "     4   401428.2289             nan     0.1000   17.7276\n",
      "     5   401341.2964             nan     0.1000 -131.5047\n",
      "     6   401272.8140             nan     0.1000 -488.1132\n",
      "     7   401267.2223             nan     0.1000 -484.8356\n",
      "     8   401264.6142             nan     0.1000 -189.3476\n",
      "     9   401266.9387             nan     0.1000 -190.5670\n",
      "    10   400919.0433             nan     0.1000  387.2228\n",
      "    20   397912.6160             nan     0.1000  -74.9545\n",
      "    40   396693.6495             nan     0.1000  135.8994\n",
      "    60   395285.9027             nan     0.1000 -315.5427\n",
      "    80   394833.0421             nan     0.1000  -70.4685\n",
      "   100   394188.4346             nan     0.1000  -11.9333\n",
      "   120   393406.8594             nan     0.1000 -924.8941\n",
      "   140   393294.6232             nan     0.1000  -70.3878\n",
      "   160   393343.0734             nan     0.1000 -577.5543\n",
      "   180   391489.9941             nan     0.1000 -1199.6204\n",
      "   200   391970.1549             nan     0.1000 -464.7348\n",
      "   220   390912.2512             nan     0.1000 -233.2012\n",
      "   240   388153.9842             nan     0.1000 -198.7522\n",
      "   250   388114.2585             nan     0.1000 -225.6903\n",
      "\n",
      "- Fold2: shrinkage=0.1, interaction.depth=4, n.minobsinnode=10, n.trees=250 \n",
      "+ Fold2: shrinkage=0.1, interaction.depth=5, n.minobsinnode=10, n.trees=250 \n",
      "Iter   TrainDeviance   ValidDeviance   StepSize   Improve\n",
      "     1   402982.0679             nan     0.1000 1005.6078\n",
      "     2   403123.5547             nan     0.1000 -1689.5977\n",
      "     3   403302.5635             nan     0.1000 -997.7185\n",
      "     4   402084.6921             nan     0.1000 1023.4460\n",
      "     5   401965.6284             nan     0.1000 -505.1376\n",
      "     6   401989.3240             nan     0.1000  -51.8378\n",
      "     7   401428.3221             nan     0.1000  183.6234\n",
      "     8   401265.2474             nan     0.1000 -127.3504\n",
      "     9   401309.8116             nan     0.1000 -131.1102\n",
      "    10   401124.1655             nan     0.1000  240.2343\n",
      "    20   399662.6177             nan     0.1000   59.3020\n",
      "    40   395513.3665             nan     0.1000 -740.1314\n",
      "    60   394241.9567             nan     0.1000 -1126.2312\n",
      "    80   393355.5305             nan     0.1000  -82.2085\n",
      "   100   392121.0623             nan     0.1000 -212.3771\n",
      "   120   392051.3396             nan     0.1000 -196.6593\n",
      "   140   390726.2337             nan     0.1000 -981.7650\n",
      "   160   389605.2412             nan     0.1000 -195.7662\n",
      "   180   389538.2466             nan     0.1000 -785.5251\n",
      "   200   388810.2942             nan     0.1000  -26.2213\n",
      "   220   388791.4739             nan     0.1000 -448.8624\n",
      "   240   388827.4172             nan     0.1000 -522.4559\n",
      "   250   388817.9484             nan     0.1000  -21.1276\n",
      "\n",
      "- Fold2: shrinkage=0.1, interaction.depth=5, n.minobsinnode=10, n.trees=250 \n",
      "+ Fold3: shrinkage=0.1, interaction.depth=1, n.minobsinnode=10, n.trees=250 \n",
      "Iter   TrainDeviance   ValidDeviance   StepSize   Improve\n",
      "     1   361826.6348             nan     0.1000  554.0839\n",
      "     2   361819.6014             nan     0.1000  -85.2624\n",
      "     3   360850.7051             nan     0.1000 -1852.3492\n",
      "     4   360312.0809             nan     0.1000  310.7167\n",
      "     5   359832.2222             nan     0.1000  173.5490\n",
      "     6   359760.0319             nan     0.1000 -297.9367\n",
      "     7   359683.9006             nan     0.1000  105.6225\n",
      "     8   359325.8281             nan     0.1000 -292.9902\n",
      "     9   359324.2187             nan     0.1000   -0.7999\n",
      "    10   359311.1894             nan     0.1000 -668.9418\n",
      "    20   358894.3131             nan     0.1000 -353.7317\n",
      "    40   356167.1725             nan     0.1000 -2071.9031\n",
      "    60   355926.0229             nan     0.1000 -488.9249\n",
      "    80   352784.7297             nan     0.1000 -105.7638\n",
      "   100   352791.2328             nan     0.1000 -548.0274\n",
      "   120   352686.6064             nan     0.1000 -168.5777\n",
      "   140   352557.9479             nan     0.1000  -10.7733\n",
      "   160   352933.3136             nan     0.1000 -256.7601\n",
      "   180   352508.4332             nan     0.1000 -447.8492\n",
      "   200   351517.6181             nan     0.1000 -704.4761\n",
      "   220   351558.3064             nan     0.1000  -76.2725\n",
      "   240   351156.1959             nan     0.1000   18.4092\n",
      "   250   350984.4626             nan     0.1000    2.9427\n",
      "\n",
      "- Fold3: shrinkage=0.1, interaction.depth=1, n.minobsinnode=10, n.trees=250 \n",
      "+ Fold3: shrinkage=0.1, interaction.depth=2, n.minobsinnode=10, n.trees=250 \n",
      "Iter   TrainDeviance   ValidDeviance   StepSize   Improve\n",
      "     1   362862.7165             nan     0.1000  -84.6011\n",
      "     2   362861.7421             nan     0.1000    0.6693\n",
      "     3   362864.5602             nan     0.1000 -336.1706\n",
      "     4   362757.3108             nan     0.1000   70.6744\n",
      "     5   361951.9583             nan     0.1000  423.0476\n",
      "     6   361951.9017             nan     0.1000   -0.1429\n",
      "     7   361990.3189             nan     0.1000 -764.3547\n",
      "     8   362084.4823             nan     0.1000 -2439.9726\n",
      "     9   361871.2052             nan     0.1000 -203.5880\n",
      "    10   361047.4768             nan     0.1000  525.1501\n",
      "    20   361305.8528             nan     0.1000  -96.5473\n",
      "    40   358228.6206             nan     0.1000  -50.5587\n",
      "    60   357589.1371             nan     0.1000  -83.7317\n",
      "    80   357055.5028             nan     0.1000  -52.6590\n",
      "   100   356640.7506             nan     0.1000 -1428.1334\n",
      "   120   355323.3472             nan     0.1000 -185.3237\n",
      "   140   355830.7409             nan     0.1000 -174.6108\n",
      "   160   355249.1783             nan     0.1000 -208.4414\n",
      "   180   354836.1443             nan     0.1000   -9.5213\n",
      "   200   354329.7560             nan     0.1000 -118.0312\n",
      "   220   354534.7507             nan     0.1000 -966.9417\n",
      "   240   353170.4403             nan     0.1000 -319.9755\n",
      "   250   352805.2123             nan     0.1000 -220.7296\n",
      "\n",
      "- Fold3: shrinkage=0.1, interaction.depth=2, n.minobsinnode=10, n.trees=250 \n",
      "+ Fold3: shrinkage=0.1, interaction.depth=3, n.minobsinnode=10, n.trees=250 \n",
      "Iter   TrainDeviance   ValidDeviance   StepSize   Improve\n",
      "     1   362862.9310             nan     0.1000  -89.1061\n",
      "     2   362317.0922             nan     0.1000 -657.1018\n",
      "     3   362296.1499             nan     0.1000    9.7446\n",
      "     4   362164.2823             nan     0.1000  170.1101\n",
      "     5   362147.4498             nan     0.1000   16.1731\n",
      "     6   362321.2237             nan     0.1000 -1354.9321\n",
      "     7   361862.3894             nan     0.1000    8.5529\n",
      "     8   361719.7549             nan     0.1000  -25.2770\n",
      "     9   360601.2882             nan     0.1000 -484.6098\n",
      "    10   360592.4185             nan     0.1000    9.7232\n",
      "    20   358956.0178             nan     0.1000   79.7827\n",
      "    40   355404.3587             nan     0.1000 -124.9279\n",
      "    60   353135.7596             nan     0.1000 -164.9396\n",
      "    80   352988.8385             nan     0.1000  -98.8056\n",
      "   100   352996.7569             nan     0.1000 -354.9588\n",
      "   120   353030.9697             nan     0.1000 -341.3072\n",
      "   140   353093.6229             nan     0.1000 -371.8953\n",
      "   160   353107.1520             nan     0.1000 -619.9911\n",
      "   180   352961.8316             nan     0.1000  -52.6992\n",
      "   200   353394.3062             nan     0.1000 -1534.9218\n",
      "   220   353017.5712             nan     0.1000 -2106.4544\n",
      "   240   352478.0464             nan     0.1000 -753.3520\n",
      "   250   352311.0565             nan     0.1000 -411.8905\n",
      "\n",
      "- Fold3: shrinkage=0.1, interaction.depth=3, n.minobsinnode=10, n.trees=250 \n",
      "+ Fold3: shrinkage=0.1, interaction.depth=4, n.minobsinnode=10, n.trees=250 \n",
      "Iter   TrainDeviance   ValidDeviance   StepSize   Improve\n",
      "     1   362437.9223             nan     0.1000 -319.7527\n",
      "     2   362359.2324             nan     0.1000   -5.4046\n",
      "     3   362511.2889             nan     0.1000 -2101.8415\n",
      "     4   362592.2391             nan     0.1000 -318.1632\n",
      "     5   362411.5579             nan     0.1000 -775.2604\n",
      "     6   362359.7419             nan     0.1000   73.2356\n",
      "     7   362349.7866             nan     0.1000    9.6362\n",
      "     8   362322.5238             nan     0.1000  -83.7883\n",
      "     9   362304.6630             nan     0.1000 -770.1546\n",
      "    10   362372.2184             nan     0.1000 -326.0366\n",
      "    20   362088.3721             nan     0.1000   79.9741\n",
      "    40   357405.3268             nan     0.1000  -41.6439\n",
      "    60   356310.2749             nan     0.1000   70.2494\n",
      "    80   355798.4228             nan     0.1000 -884.6427\n",
      "   100   355738.5656             nan     0.1000  -26.6477\n",
      "   120   355621.8845             nan     0.1000 -273.9554\n",
      "   140   354169.5389             nan     0.1000  392.4682\n",
      "   160   354152.5458             nan     0.1000 -838.6226\n",
      "   180   352573.6696             nan     0.1000   -8.9564\n",
      "   200   352083.0619             nan     0.1000 -214.6760\n",
      "   220   352185.4609             nan     0.1000 -4039.2536\n",
      "   240   352287.4854             nan     0.1000  -12.5050\n",
      "   250   351377.1432             nan     0.1000  -15.9708\n",
      "\n",
      "- Fold3: shrinkage=0.1, interaction.depth=4, n.minobsinnode=10, n.trees=250 \n",
      "+ Fold3: shrinkage=0.1, interaction.depth=5, n.minobsinnode=10, n.trees=250 \n",
      "Iter   TrainDeviance   ValidDeviance   StepSize   Improve\n",
      "     1   362896.6998             nan     0.1000 -798.2513\n",
      "     2   362662.8235             nan     0.1000 -596.0223\n",
      "     3   362715.8421             nan     0.1000 -1337.1112\n",
      "     4   362736.1927             nan     0.1000  -71.7683\n",
      "     5   362801.4829             nan     0.1000 -325.3002\n",
      "     6   361437.3782             nan     0.1000 -851.9080\n",
      "     7   360485.4394             nan     0.1000 -1217.6585\n",
      "     8   360457.3869             nan     0.1000  -98.2553\n",
      "     9   360446.2838             nan     0.1000  -90.7871\n",
      "    10   360456.0627             nan     0.1000 -380.4359\n",
      "    20   360716.0062             nan     0.1000 -733.5003\n",
      "    40   358563.2894             nan     0.1000  -54.1349\n",
      "    60   354745.6929             nan     0.1000 -461.9223\n",
      "    80   353138.2815             nan     0.1000 -328.9179\n",
      "   100   352278.6383             nan     0.1000 -317.6585\n",
      "   120   352042.2375             nan     0.1000  -33.0837\n",
      "   140   349992.2599             nan     0.1000 -238.0653\n",
      "   160   348588.8912             nan     0.1000 -169.7212\n",
      "   180   347350.0661             nan     0.1000    0.3316\n",
      "   200   347135.9935             nan     0.1000 -252.9946\n",
      "   220   347386.9485             nan     0.1000 -1045.8298\n",
      "   240   347086.8469             nan     0.1000 -162.1559\n",
      "   250   347099.7573             nan     0.1000 -1649.3868\n",
      "\n",
      "- Fold3: shrinkage=0.1, interaction.depth=5, n.minobsinnode=10, n.trees=250 \n",
      "+ Fold4: shrinkage=0.1, interaction.depth=1, n.minobsinnode=10, n.trees=250 \n",
      "Iter   TrainDeviance   ValidDeviance   StepSize   Improve\n",
      "     1   479844.6105             nan     0.1000 -550.4236\n",
      "     2   478962.0050             nan     0.1000   42.1697\n",
      "     3   478963.5135             nan     0.1000   -3.0945\n",
      "     4   479136.4930             nan     0.1000 -1078.5900\n",
      "     5   478956.1400             nan     0.1000 -460.3092\n",
      "     6   478360.8859             nan     0.1000   28.7846\n",
      "     7   477922.6344             nan     0.1000  317.0042\n",
      "     8   477740.6339             nan     0.1000  -53.2370\n",
      "     9   477717.9278             nan     0.1000   36.7926\n",
      "    10   477645.0100             nan     0.1000 -550.4646\n",
      "    20   474938.3940             nan     0.1000 -524.9531\n",
      "    40   473420.8018             nan     0.1000 -1809.6407\n",
      "    60   472134.9091             nan     0.1000 -1629.4596\n",
      "    80   471434.9438             nan     0.1000 -643.6741\n",
      "   100   470596.0760             nan     0.1000 -1744.3692\n",
      "   120   470235.0709             nan     0.1000   57.4973\n",
      "   140   469492.1727             nan     0.1000 -472.3857\n",
      "   160   467889.2427             nan     0.1000 -515.7692\n",
      "   180   467915.4001             nan     0.1000 -210.9242\n",
      "   200   467810.5718             nan     0.1000 -268.6858\n",
      "   220   468172.6723             nan     0.1000 -389.2503\n",
      "   240   468091.0743             nan     0.1000 -1512.2686\n",
      "   250   467929.7410             nan     0.1000  -38.2176\n",
      "\n",
      "- Fold4: shrinkage=0.1, interaction.depth=1, n.minobsinnode=10, n.trees=250 \n",
      "+ Fold4: shrinkage=0.1, interaction.depth=2, n.minobsinnode=10, n.trees=250 \n",
      "Iter   TrainDeviance   ValidDeviance   StepSize   Improve\n",
      "     1   477793.3749             nan     0.1000  -40.2435\n",
      "     2   477774.4700             nan     0.1000 -989.5317\n",
      "     3   477882.1738             nan     0.1000 -1892.1043\n",
      "     4   477966.4806             nan     0.1000 -549.1740\n",
      "     5   477406.3015             nan     0.1000 -987.3185\n",
      "     6   476560.4039             nan     0.1000 -575.2470\n",
      "     7   476471.4842             nan     0.1000 -485.0984\n",
      "     8   476452.1067             nan     0.1000 -189.2224\n",
      "     9   476466.9391             nan     0.1000 -505.4302\n",
      "    10   476470.6782             nan     0.1000  -11.1404\n",
      "    20   474611.5123             nan     0.1000 -1042.0127\n",
      "    40   471717.1309             nan     0.1000 -1401.7344\n",
      "    60   470744.1059             nan     0.1000 -324.5068\n",
      "    80   469580.4319             nan     0.1000 -504.5300\n",
      "   100   469644.8283             nan     0.1000 -219.7470\n",
      "   120   469440.3157             nan     0.1000    9.2459\n",
      "   140   469039.0492             nan     0.1000 -214.0264\n",
      "   160   468969.5693             nan     0.1000 -584.2350\n",
      "   180   468655.0704             nan     0.1000 -2181.2139\n",
      "   200   468441.8016             nan     0.1000 -144.4802\n",
      "   220   467885.8483             nan     0.1000 -1105.2866\n",
      "   240   467050.1084             nan     0.1000 -103.6006\n",
      "   250   467042.1746             nan     0.1000 -217.0653\n",
      "\n",
      "- Fold4: shrinkage=0.1, interaction.depth=2, n.minobsinnode=10, n.trees=250 \n",
      "+ Fold4: shrinkage=0.1, interaction.depth=3, n.minobsinnode=10, n.trees=250 \n",
      "Iter   TrainDeviance   ValidDeviance   StepSize   Improve\n",
      "     1   479818.6986             nan     0.1000  -11.9081\n",
      "     2   479818.4613             nan     0.1000  -33.0885\n",
      "     3   479436.6823             nan     0.1000 -419.9555\n",
      "     4   479611.0877             nan     0.1000 -1672.4904\n",
      "     5   478969.4937             nan     0.1000  736.7086\n",
      "     6   478221.7846             nan     0.1000  519.1245\n",
      "     7   477824.0963             nan     0.1000 -1076.9712\n",
      "     8   476948.1761             nan     0.1000  199.0032\n",
      "     9   477454.8792             nan     0.1000 -1519.9999\n",
      "    10   476891.7838             nan     0.1000 -223.7556\n",
      "    20   476560.8958             nan     0.1000   33.2581\n",
      "    40   474453.0759             nan     0.1000   -3.9284\n",
      "    60   473728.5902             nan     0.1000 -584.0411\n",
      "    80   471668.6246             nan     0.1000 -1053.9481\n",
      "   100   470167.1759             nan     0.1000 -255.1967\n",
      "   120   469683.1580             nan     0.1000  -10.4430\n",
      "   140   469581.5337             nan     0.1000   13.4309\n",
      "   160   469646.5144             nan     0.1000 -474.0523\n",
      "   180   468865.6536             nan     0.1000  -83.5093\n",
      "   200   468715.2578             nan     0.1000 -131.5319\n",
      "   220   468199.3995             nan     0.1000 -431.9538\n",
      "   240   467564.2301             nan     0.1000 -1132.8703\n",
      "   250   467030.7870             nan     0.1000 -792.8152\n",
      "\n",
      "- Fold4: shrinkage=0.1, interaction.depth=3, n.minobsinnode=10, n.trees=250 \n",
      "+ Fold4: shrinkage=0.1, interaction.depth=4, n.minobsinnode=10, n.trees=250 \n",
      "Iter   TrainDeviance   ValidDeviance   StepSize   Improve\n",
      "     1   479828.2616             nan     0.1000 -210.6517\n",
      "     2   479126.8455             nan     0.1000  633.7829\n",
      "     3   478719.2162             nan     0.1000  405.0794\n",
      "     4   478698.3879             nan     0.1000  -10.0317\n",
      "     5   478013.5857             nan     0.1000  483.4698\n",
      "     6   477725.2250             nan     0.1000  -96.8895\n",
      "     7   477729.5016             nan     0.1000  -25.8844\n",
      "     8   477435.5503             nan     0.1000 -590.6618\n",
      "     9   477361.0003             nan     0.1000 -1007.9935\n",
      "    10   476892.6284             nan     0.1000  253.5977\n",
      "    20   473765.9145             nan     0.1000 -524.7658\n",
      "    40   472071.1374             nan     0.1000  -14.8852\n",
      "    60   472229.3003             nan     0.1000  -59.0831\n",
      "    80   471066.9083             nan     0.1000 -749.5932\n",
      "   100   470727.2781             nan     0.1000 -1512.6906\n",
      "   120   470683.5999             nan     0.1000   -2.5436\n",
      "   140   470164.7892             nan     0.1000 -230.5220\n",
      "   160   468975.6005             nan     0.1000  -10.3597\n",
      "   180   469439.9279             nan     0.1000 -1504.0967\n",
      "   200   468668.4540             nan     0.1000 -1600.6724\n",
      "   220   468606.6735             nan     0.1000  -39.1087\n",
      "   240   468380.1665             nan     0.1000 -1752.8655\n",
      "   250   468286.0931             nan     0.1000 -319.0725\n",
      "\n",
      "- Fold4: shrinkage=0.1, interaction.depth=4, n.minobsinnode=10, n.trees=250 \n",
      "+ Fold4: shrinkage=0.1, interaction.depth=5, n.minobsinnode=10, n.trees=250 \n",
      "Iter   TrainDeviance   ValidDeviance   StepSize   Improve\n",
      "     1   479403.4653             nan     0.1000 -1048.2133\n",
      "     2   477849.9493             nan     0.1000 -326.6715\n",
      "     3   477103.1672             nan     0.1000 -445.2332\n",
      "     4   477345.8505             nan     0.1000 -1784.8776\n",
      "     5   476841.4743             nan     0.1000  429.1008\n",
      "     6   476795.8851             nan     0.1000   -6.8070\n",
      "     7   476438.3203             nan     0.1000  158.6953\n",
      "     8   476548.7892             nan     0.1000 -2084.7513\n",
      "     9   476223.6930             nan     0.1000  320.3276\n",
      "    10   476274.3320             nan     0.1000 -732.5860\n",
      "    20   473258.7125             nan     0.1000 -206.0085\n",
      "    40   472680.5490             nan     0.1000 -152.9335\n",
      "    60   472202.2722             nan     0.1000   -7.0602\n",
      "    80   470284.5347             nan     0.1000 -2184.6704\n",
      "   100   467301.4864             nan     0.1000 -722.9550\n",
      "   120   467068.1110             nan     0.1000  -52.8856\n",
      "   140   465661.9478             nan     0.1000 -437.1726\n",
      "   160   465803.3685             nan     0.1000   30.9147\n",
      "   180   465318.0031             nan     0.1000 -174.0342\n",
      "   200   464378.3434             nan     0.1000 -363.7446\n",
      "   220   463265.6498             nan     0.1000  -80.5299\n",
      "   240   462778.5139             nan     0.1000 -103.2144\n",
      "   250   462803.7649             nan     0.1000 -957.9532\n",
      "\n",
      "- Fold4: shrinkage=0.1, interaction.depth=5, n.minobsinnode=10, n.trees=250 \n",
      "+ Fold5: shrinkage=0.1, interaction.depth=1, n.minobsinnode=10, n.trees=250 \n",
      "Iter   TrainDeviance   ValidDeviance   StepSize   Improve\n",
      "     1   347590.2567             nan     0.1000 -966.4549\n",
      "     2   347627.9810             nan     0.1000 -180.8798\n",
      "     3   347407.9355             nan     0.1000 -959.5243\n",
      "     4   347149.5289             nan     0.1000 -573.3350\n",
      "     5   347387.4094             nan     0.1000 -3149.4891\n",
      "     6   347317.9214             nan     0.1000   50.2650\n",
      "     7   347480.9273             nan     0.1000 -703.0476\n",
      "     8   347522.6587             nan     0.1000 -129.7844\n",
      "     9   347272.0193             nan     0.1000 -261.4828\n",
      "    10   346941.2500             nan     0.1000 -1048.5594\n",
      "    20   346714.1741             nan     0.1000 -477.7386\n",
      "    40   346202.0527             nan     0.1000 -167.1957\n",
      "    60   345074.8311             nan     0.1000 -132.3538\n",
      "    80   344923.8911             nan     0.1000   -4.9397\n",
      "   100   344620.1722             nan     0.1000 -650.4902\n",
      "   120   344593.1941             nan     0.1000 -150.8790\n",
      "   140   344333.7486             nan     0.1000  -19.5714\n",
      "   160   343816.7061             nan     0.1000 -536.9974\n",
      "   180   343333.4198             nan     0.1000  -47.8186\n",
      "   200   343164.4429             nan     0.1000 -269.0649\n",
      "   220   343221.0618             nan     0.1000 -813.0358\n",
      "   240   342087.3679             nan     0.1000  110.5727\n",
      "   250   342012.1602             nan     0.1000 -481.4069\n",
      "\n",
      "- Fold5: shrinkage=0.1, interaction.depth=1, n.minobsinnode=10, n.trees=250 \n",
      "+ Fold5: shrinkage=0.1, interaction.depth=2, n.minobsinnode=10, n.trees=250 \n",
      "Iter   TrainDeviance   ValidDeviance   StepSize   Improve\n",
      "     1   347892.3675             nan     0.1000 -1019.4913\n",
      "     2   347931.2359             nan     0.1000 -116.2223\n",
      "     3   347888.6439             nan     0.1000 -221.9867\n",
      "     4   347881.7791             nan     0.1000  -18.5180\n",
      "     5   347800.9074             nan     0.1000 -378.4958\n",
      "     6   347806.7031             nan     0.1000  -18.5392\n",
      "     7   347781.7771             nan     0.1000 -190.3882\n",
      "     8   347913.9606             nan     0.1000 -3545.4683\n",
      "     9   348083.0068             nan     0.1000 -982.6229\n",
      "    10   348057.1159             nan     0.1000   40.8216\n",
      "    20   345712.3852             nan     0.1000 -170.6862\n",
      "    40   345620.2276             nan     0.1000   21.8296\n",
      "    60   345066.5179             nan     0.1000 -401.8179\n",
      "    80   342455.1113             nan     0.1000 -262.1519\n",
      "   100   340562.3787             nan     0.1000 -314.5532\n",
      "   120   340230.5199             nan     0.1000  -85.1530\n",
      "   140   338691.1588             nan     0.1000 -377.6865\n",
      "   160   338152.5840             nan     0.1000  -22.8445\n",
      "   180   338374.4876             nan     0.1000 -686.8428\n",
      "   200   337239.4884             nan     0.1000  -17.9366\n",
      "   220   337107.4645             nan     0.1000 -140.1852\n",
      "   240   336936.2888             nan     0.1000 -170.0679\n",
      "   250   336678.4903             nan     0.1000 -387.6514\n",
      "\n",
      "- Fold5: shrinkage=0.1, interaction.depth=2, n.minobsinnode=10, n.trees=250 \n",
      "+ Fold5: shrinkage=0.1, interaction.depth=3, n.minobsinnode=10, n.trees=250 \n",
      "Iter   TrainDeviance   ValidDeviance   StepSize   Improve\n",
      "     1   347719.1496             nan     0.1000   73.5438\n",
      "     2   347716.7430             nan     0.1000  -19.7493\n",
      "     3   347718.7959             nan     0.1000  -24.0436\n",
      "     4   347722.3125             nan     0.1000  -22.2888\n",
      "     5   347725.4188             nan     0.1000 -559.4669\n",
      "     6   347327.8122             nan     0.1000 -192.7012\n",
      "     7   346993.9301             nan     0.1000 -785.3046\n",
      "     8   346999.0857             nan     0.1000 -159.6014\n",
      "     9   346994.4478             nan     0.1000  -30.9569\n",
      "    10   346993.8631             nan     0.1000  -29.5979\n",
      "    20   346047.9856             nan     0.1000 -579.5614\n",
      "    40   345114.1163             nan     0.1000 -621.6218\n",
      "    60   344266.9797             nan     0.1000   -8.6186\n",
      "    80   342871.5359             nan     0.1000 -483.0929\n",
      "   100   342306.4329             nan     0.1000 -445.1126\n",
      "   120   342469.0729             nan     0.1000   18.9871\n",
      "   140   341986.2991             nan     0.1000  -24.3560\n",
      "   160   341332.8192             nan     0.1000 -241.0745\n",
      "   180   340650.4858             nan     0.1000 -781.5293\n",
      "   200   339867.1954             nan     0.1000 -570.2794\n",
      "   220   339051.9192             nan     0.1000   11.5273\n",
      "   240   338503.5225             nan     0.1000 -524.3902\n",
      "   250   338488.8721             nan     0.1000  -63.1710\n",
      "\n",
      "- Fold5: shrinkage=0.1, interaction.depth=3, n.minobsinnode=10, n.trees=250 \n",
      "+ Fold5: shrinkage=0.1, interaction.depth=4, n.minobsinnode=10, n.trees=250 \n",
      "Iter   TrainDeviance   ValidDeviance   StepSize   Improve\n",
      "     1   347635.6831             nan     0.1000 -380.3384\n",
      "     2   347607.4456             nan     0.1000 -540.0939\n",
      "     3   346727.6439             nan     0.1000   38.9567\n",
      "     4   346855.0444             nan     0.1000 -2323.4430\n",
      "     5   346883.6118             nan     0.1000 -157.6086\n",
      "     6   346719.1875             nan     0.1000 -628.6755\n",
      "     7   346238.7591             nan     0.1000   37.4666\n",
      "     8   346072.7900             nan     0.1000 -1043.3545\n",
      "     9   346217.0559             nan     0.1000 -646.7660\n",
      "    10   346064.7935             nan     0.1000 -1789.9014\n",
      "    20   345683.1497             nan     0.1000  -18.9394\n",
      "    40   344757.2736             nan     0.1000 -529.5042\n",
      "    60   343785.5932             nan     0.1000 -252.2986\n",
      "    80   343756.6374             nan     0.1000 -1522.2771\n",
      "   100   343399.5878             nan     0.1000 -222.0175\n",
      "   120   342991.5448             nan     0.1000 -153.1604\n",
      "   140   341889.2476             nan     0.1000 -153.0624\n",
      "   160   341729.6033             nan     0.1000 -2684.6506\n",
      "   180   341102.5523             nan     0.1000 -281.2398\n",
      "   200   340951.9874             nan     0.1000 -139.8584\n",
      "   220   341051.7910             nan     0.1000   31.3756\n",
      "   240   340479.1347             nan     0.1000 -1587.4441\n",
      "   250   340599.5715             nan     0.1000 -635.4960\n",
      "\n",
      "- Fold5: shrinkage=0.1, interaction.depth=4, n.minobsinnode=10, n.trees=250 \n",
      "+ Fold5: shrinkage=0.1, interaction.depth=5, n.minobsinnode=10, n.trees=250 \n",
      "Iter   TrainDeviance   ValidDeviance   StepSize   Improve\n",
      "     1   347844.6472             nan     0.1000  -17.3649\n",
      "     2   347968.8048             nan     0.1000 -1187.3249\n",
      "     3   347832.4991             nan     0.1000  -81.2695\n",
      "     4   347816.6659             nan     0.1000 -209.5765\n",
      "     5   347779.4493             nan     0.1000   41.7550\n",
      "     6   347417.8582             nan     0.1000 -246.7661\n",
      "     7   347401.3661             nan     0.1000 -194.1660\n",
      "     8   347242.6253             nan     0.1000 -1011.0990\n",
      "     9   347005.5921             nan     0.1000 -244.1408\n",
      "    10   346947.3330             nan     0.1000 -1137.1835\n",
      "    20   346473.0586             nan     0.1000   -0.9504\n",
      "    40   345190.6705             nan     0.1000 -729.1800\n",
      "    60   345153.5391             nan     0.1000 -141.9349\n",
      "    80   343981.6038             nan     0.1000   -5.4946\n",
      "   100   343873.0338             nan     0.1000 -556.7477\n",
      "   120   343261.7759             nan     0.1000 -474.7685\n",
      "   140   341995.2810             nan     0.1000 -348.2770\n",
      "   160   341862.8130             nan     0.1000   19.3869\n",
      "   180   341693.9551             nan     0.1000 -1696.8997\n",
      "   200   341824.1340             nan     0.1000 -216.1304\n",
      "   220   341710.7536             nan     0.1000 -290.2821\n",
      "   240   341235.7472             nan     0.1000  100.3639\n",
      "   250   340632.5223             nan     0.1000  -26.6983\n",
      "\n",
      "- Fold5: shrinkage=0.1, interaction.depth=5, n.minobsinnode=10, n.trees=250 \n",
      "Aggregating results\n",
      "Selecting tuning parameters\n",
      "Fitting n.trees = 50, interaction.depth = 5, shrinkage = 0.1, n.minobsinnode = 10 on full training set\n",
      "Iter   TrainDeviance   ValidDeviance   StepSize   Improve\n",
      "     1   408059.3684             nan     0.1000 1045.8978\n",
      "     2   405168.7129             nan     0.1000 1548.5162\n",
      "     3   402665.6172             nan     0.1000  548.8225\n",
      "     4   400452.7238             nan     0.1000  216.1403\n",
      "     5   398495.5945             nan     0.1000  408.1113\n",
      "     6   396765.7458             nan     0.1000  124.3028\n",
      "     7   394554.2988             nan     0.1000  -50.0031\n",
      "     8   392897.4284             nan     0.1000 -109.6920\n",
      "     9   391537.8979             nan     0.1000 -652.4144\n",
      "    10   390466.0648             nan     0.1000 -607.8502\n",
      "    20   379584.6021             nan     0.1000 -1055.6703\n",
      "    40   367265.2025             nan     0.1000 -756.1819\n",
      "    50   363102.8449             nan     0.1000 -1591.2676\n",
      "\n",
      "+ Fold1: C=1 \n",
      "- Fold1: C=1 \n",
      "+ Fold2: C=1 \n",
      "- Fold2: C=1 \n",
      "+ Fold3: C=1 \n",
      "- Fold3: C=1 \n",
      "+ Fold4: C=1 \n",
      "- Fold4: C=1 \n",
      "+ Fold5: C=1 \n",
      "- Fold5: C=1 \n",
      "Aggregating results\n",
      "Fitting final model on full training set\n"
     ]
    }
   ],
   "source": [
    "# iterate through analyses and create each model, also validate versus test set\n",
    "#set seed for reproducibility\n",
    "set.seed(85)\n",
    "\n",
    "results_df <- data_frame(model=as.character(), validity=as.numeric())\n",
    "models <- list()\n",
    "for (j in 1:length(algo_vec)) {\n",
    "    resultName <- paste0(\"JP\",\"-\",algo_vec[j])\n",
    "    models[[resultName]] <- train(  \n",
    "      tweet_popularity ~ .,\n",
    "      tuneLength=5,\n",
    "      data=training_df,\n",
    "      method=algo_vec[j],\n",
    "      preProcess=c(\"zv\"),\n",
    "      trControl=trainControl(method=\"cv\", number=5, verboseIter=T, index=index)\n",
    "    )\n",
    "        \n",
    "    results_df <- bind_rows(results_df, data_frame(\n",
    "      model=resultName,\n",
    "      validity=cor(predict(models[[resultName]], test_df), pull(test_df, tweet_popularity))\n",
    "    ))\n",
    "    \n",
    "  }\n"
   ]
  },
  {
   "cell_type": "markdown",
   "metadata": {},
   "source": [
    "Now that we've trained our models, we can look at the results!"
   ]
  },
  {
   "cell_type": "code",
   "execution_count": 20,
   "metadata": {},
   "outputs": [
    {
     "data": {
      "text/html": [
       "<table>\n",
       "<thead><tr><th scope=col>model</th><th scope=col>validity</th></tr></thead>\n",
       "<tbody>\n",
       "\t<tr><td>JP-glmnet   </td><td>0.1890466   </td></tr>\n",
       "\t<tr><td>JP-gbm      </td><td>0.2658123   </td></tr>\n",
       "\t<tr><td>JP-svmLinear</td><td>0.1456513   </td></tr>\n",
       "</tbody>\n",
       "</table>\n"
      ],
      "text/latex": [
       "\\begin{tabular}{r|ll}\n",
       " model & validity\\\\\n",
       "\\hline\n",
       "\t JP-glmnet    & 0.1890466   \\\\\n",
       "\t JP-gbm       & 0.2658123   \\\\\n",
       "\t JP-svmLinear & 0.1456513   \\\\\n",
       "\\end{tabular}\n"
      ],
      "text/markdown": [
       "\n",
       "| model | validity |\n",
       "|---|---|\n",
       "| JP-glmnet    | 0.1890466    |\n",
       "| JP-gbm       | 0.2658123    |\n",
       "| JP-svmLinear | 0.1456513    |\n",
       "\n"
      ],
      "text/plain": [
       "  model        validity \n",
       "1 JP-glmnet    0.1890466\n",
       "2 JP-gbm       0.2658123\n",
       "3 JP-svmLinear 0.1456513"
      ]
     },
     "metadata": {},
     "output_type": "display_data"
    }
   ],
   "source": [
    "#examine results\n",
    "results_df"
   ]
  },
  {
   "cell_type": "markdown",
   "metadata": {},
   "source": [
    "These validity values are the correlation between predicted tweet popularity scores from each of these algorithms and the actual tweet popularity scores in the holdout data.\n",
    "\n",
    "Also remember that these numbers are likely to change based on the original validation splits. If you change your seed, these numbers will change (although, usually slightly). "
   ]
  },
  {
   "cell_type": "markdown",
   "metadata": {},
   "source": [
    "Finally, we'll want to unpack what variables (words) were most useful in each of these models. We can do this using Caret's **varImp()** function, which calculates variable importance depending on the model. See https://topepo.github.io/caret/variable-importance.html for more detials. "
   ]
  },
  {
   "cell_type": "code",
   "execution_count": 21,
   "metadata": {},
   "outputs": [
    {
     "data": {
      "text/plain": [
       "$`JP-glmnet`\n",
       "glmnet variable importance\n",
       "\n",
       "  only 20 most important variables shown (out of 203)\n",
       "\n",
       "                    Overall\n",
       "interested      100.0000000\n",
       "language         94.5108672\n",
       "hugomunsterberg  88.2406644\n",
       "booth            84.2908801\n",
       "poster           61.0261101\n",
       "love             36.5066758\n",
       "employee         32.5961372\n",
       "forward          21.6006120\n",
       "talentmetrics    18.3413106\n",
       "teamsiop         12.4631258\n",
       "sessions          6.9233307\n",
       "change            6.6213294\n",
       "humanresources    5.8304336\n",
       "orgdev            2.3807507\n",
       "make              1.5452042\n",
       "today             0.9607775\n",
       "week              0.0977765\n",
       "business          0.0811024\n",
       "awesome           0.0004248\n",
       "employees         0.0000000\n",
       "\n",
       "$`JP-gbm`\n",
       "gbm variable importance\n",
       "\n",
       "  only 20 most important variables shown (out of 203)\n",
       "\n",
       "              Overall\n",
       "make           100.00\n",
       "sioptweets      98.83\n",
       "week            83.06\n",
       "booth           72.66\n",
       "language        66.00\n",
       "excited         63.70\n",
       "looking         58.97\n",
       "just            57.45\n",
       "team            56.60\n",
       "can             56.22\n",
       "need            48.00\n",
       "forward         47.51\n",
       "conference      44.21\n",
       "`next`          35.16\n",
       "research        34.73\n",
       "talentmetrics   33.06\n",
       "using           30.11\n",
       "leadership      26.72\n",
       "students        26.42\n",
       "futureofwork    26.19\n",
       "\n",
       "$`JP-svmLinear`\n",
       "loess r-squared variable importance\n",
       "\n",
       "  only 20 most important variables shown (out of 203)\n",
       "\n",
       "                Overall\n",
       "hugomunsterberg  100.00\n",
       "language          91.05\n",
       "booth             82.26\n",
       "interested        68.44\n",
       "poster            63.11\n",
       "talentmetrics     45.67\n",
       "love              40.36\n",
       "employee          37.04\n",
       "humanresources    36.10\n",
       "teamsiop          32.69\n",
       "team              31.09\n",
       "sessions          29.78\n",
       "hrtribe           28.70\n",
       "forward           28.56\n",
       "sioptweets        28.14\n",
       "make              26.36\n",
       "content           26.06\n",
       "going             23.97\n",
       "week              23.42\n",
       "today             22.74\n"
      ]
     },
     "metadata": {},
     "output_type": "display_data"
    }
   ],
   "source": [
    "#examine top 20 vars/model\n",
    "options(scipen=999) #disable scientific notation for better interpretability\n",
    "lapply(models, varImp)"
   ]
  },
  {
   "cell_type": "markdown",
   "metadata": {},
   "source": [
    "We can see that many of these rankings changed depending on the modeling approach. This is one reason why interpretation becomes more difficult. It's also not clear _why_ some of these words were more predictive than others, just that they were. However, it is undeniable that tweeting about Hugo Munsterberg directly causes tweet popularity! "
   ]
  },
  {
   "cell_type": "markdown",
   "metadata": {},
   "source": [
    "\n",
    "Some final considerations:\n",
    "* Data does not have to be “big” to benefit from these approaches\n",
    "* Interpretation still matters\n",
    "* These techniques are far from perfect\n"
   ]
  }
 ],
 "metadata": {
  "kernelspec": {
   "display_name": "R",
   "language": "R",
   "name": "ir"
  },
  "language_info": {
   "codemirror_mode": "r",
   "file_extension": ".r",
   "mimetype": "text/x-r-source",
   "name": "R",
   "pygments_lexer": "r",
   "version": "3.5.1"
  }
 },
 "nbformat": 4,
 "nbformat_minor": 2
}

{
 "cells": [
  {
   "cell_type": "markdown",
   "metadata": {},
   "source": [
    "# <center>Extracting and Analyzing SIOP-Related Tweets</center>\n",
    "_<center>Leveraging Data Science 2019 SIOP Master Tutorial</center>_\n",
    "\n"
   ]
  },
  {
   "cell_type": "markdown",
   "metadata": {},
   "source": [
    "First, let's load the libraries we'll need."
   ]
  },
  {
   "cell_type": "code",
   "execution_count": 5,
   "metadata": {},
   "outputs": [],
   "source": [
    "library(rtweet)\n",
    "library(dplyr)\n",
    "library(stringr)\n",
    "library(tm)\n",
    "library(wordcloud)\n",
    "library(tidytext)\n",
    "library(caret)\n",
    "library(glmnet)\n"
   ]
  },
  {
   "cell_type": "markdown",
   "metadata": {},
   "source": [
    "## Accessing Twitter's API\n",
    "Next we need to set up access to the Twitter API. The Twitter API will allow us to request data from Twitter to use later in our analyses. In order to obtain permission to access the Twitter API, you'll need to first set up credentials. To do this, you'll need to log into Twitter and create an application: https://developer.twitter.com/en/account/get-started. Once you have created an application, locate your \"keys and tokens.\" We'll temporarily save these to our local R environment. Make sure you don't share these with others!\n",
    "\n",
    "Add your keys here:"
   ]
  },
  {
   "cell_type": "code",
   "execution_count": 6,
   "metadata": {},
   "outputs": [],
   "source": [
    "# Replace these with your Twitter access keys (in the quote) - DO NOT SHARE YOUR KEYS WITH OTHERS\n",
    "appname <- \"SIOP Data Science Tutorial\"\n",
    "key <- \"key\"\n",
    "secret <- \"secretkey\"\n",
    "access_token <- \"accesstoken\"\n",
    "access_secret <- \"secretaccesstoken\"\n",
    "\t\n",
    "# Store these keys for the next step (just run this script)\n",
    "twitter_token<- create_token(\n",
    "  app = appname,\n",
    "  consumer_key = key,\n",
    "  consumer_secret = secret,\n",
    "  access_token = access_token,\n",
    "  access_secret =access_secret)\n"
   ]
  },
  {
   "cell_type": "markdown",
   "metadata": {},
   "source": [
    "Now that we have our Twitter API credential set up, we can submit an API request. To do this we will use the R package **rtweet** (https://rtweet.info/). Using this package you can interact with Twitter's API by searching recent tweets by keywords, publishing tweets, getting trends, and even pulling entire timelines. For this demonstration, we'll be searching for tweets related to SIOP and IO psychology by searching for tweets that contain #SIOP, #IOPsych, #IamSIOP, #SIOP19. \n",
    "\n",
    "It's important to note that free access to Twitter's API restricts search capabilities to tweets that have occured in the past 6-9 days. Twitter also limits search results to 18,000 tweets every 15 minutes. Paid tiers provide more access and options. \n",
    "\n",
    "Using the **rtweets::search_tweets()**  we'll specify our search parameters using the _q_ argument and the number of tweets using the _n_ argument. We'll also save our output to a csv file. \n"
   ]
  },
  {
   "cell_type": "code",
   "execution_count": 9,
   "metadata": {},
   "outputs": [],
   "source": [
    "#This code is commented out because we already have our data. To uncomment, remove the # in front of the code. \n",
    "\n",
    "#siop_tweets <- search_tweets(q = \"#SIOP OR #IOPsych OR #IamSIOP OR #SIOP19\",\n",
    "#                              n = 1500)\n",
    "#write_as_csv(siop_tweets, \"tweets.csv\")\n",
    "\n",
    "#for this demonstration, we'll just read in our saved tweets (These tweets were collected over the span of two weeks by running the above function once/week)\n",
    "tweets <- read.csv(\"tweets.csv\")\n"
   ]
  },
  {
   "cell_type": "markdown",
   "metadata": {},
   "source": [
    "## Working with Twitter Data - Visualization and Text Analysis\n",
    "Now we have some data! Let's check it out by clicking on the file in the \"Files\" tab to your left in the jupyterlab environment. \n",
    "\n",
    "This is pretty clean output but we'll still need to do some data cleaning depending on which parts of the data we're interested in. Let's do some exploring. \n",
    "\n",
    "The rtweets package has some built in visualization tools. We'll start by plotting a time series of our tweets using the **ts_plot()** function."
   ]
  },
  {
   "cell_type": "code",
   "execution_count": 10,
   "metadata": {},
   "outputs": [
    {
     "data": {
      "image/png": "[encoded data removed]",
      "text/plain": [
       "plot without title"
      ]
     },
     "metadata": {},
     "output_type": "display_data"
    }
   ],
   "source": [
    "#First Let's specify that the tweet is in English\n",
    "tweets <- tweets %>%\n",
    "dplyr::filter(lang == \"en\")\n",
    "\n",
    "# Next, let's plot a time series of tweet frequency\n",
    "options(repr.plot.width=5, repr.plot.height=5) #resize plot\n",
    "\n",
    "ts_plot(tweets, \"8 hours\") +\n",
    "  ggplot2::theme_minimal() +\n",
    "  ggplot2::theme(plot.title = ggplot2::element_text(face = \"bold\")) +\n",
    "  ggplot2::labs(\n",
    "    x = \"Day\", y = \"Tweets\",\n",
    "    title = \"Frequency of #SIOP Tweets March 4 - 15\",\n",
    "    subtitle = \"Tweet counts aggregated using 8-hour intervals\",\n",
    "    caption = \"\\nSource: Data collected from Twitter's REST API via rtweet\"\n",
    "  )"
   ]
  },
  {
   "cell_type": "markdown",
   "metadata": {},
   "source": [
    "It looks like there was an uptick in tweets sometime between March 12-14.\n",
    "\n",
    "Now let's start to look at tweet content. This is going to require a bit of text preprocessing."
   ]
  },
  {
   "cell_type": "code",
   "execution_count": 11,
   "metadata": {},
   "outputs": [
    {
     "data": {
      "text/plain": [
       "\n",
       "FALSE \n",
       "  707 "
      ]
     },
     "metadata": {},
     "output_type": "display_data"
    }
   ],
   "source": [
    "# Let's first drop retweets since those will provided redundant text. \n",
    "tweets_preprocessed <- tweets%>%\n",
    "dplyr::filter(is_retweet == FALSE)\n",
    "\n",
    "#make sure that worked (note that only RT without added text are removed so we'll keep the ones with commentary)\n",
    "table(tweets_preprocessed$is_retweet)\n"
   ]
  },
  {
   "cell_type": "markdown",
   "metadata": {},
   "source": [
    "Here is the twitter text prior to pre-processing (a random sample of the dataset):"
   ]
  },
  {
   "cell_type": "code",
   "execution_count": 12,
   "metadata": {},
   "outputs": [
    {
     "data": {
      "text/html": [
       "<table>\n",
       "<thead><tr><th></th><th scope=col>text</th></tr></thead>\n",
       "<tbody>\n",
       "\t<tr><th scope=row>675</th><td><span style=white-space:pre-wrap>#GQRevents is excited to attend SIOP 2019 in Washington, D.C on April 2-6th! Learn more about the conference here  &amp;gt;&amp;gt; https://t.co/R9MOVMPqPK #SIOP19 https://t.co/JTMYPRhYJ3                                                                                                                </span></td></tr>\n",
       "\t<tr><th scope=row>136</th><td>Need a new headshot? \n",
       "Looking for a new linkedin profile picture? \n",
       "Check it out #IOPsych peeps!\n",
       " See you in less than 4 weeks... https://t.co/wKRUwgkhdL                                                                                                                                        </td></tr>\n",
       "\t<tr><th scope=row>370</th><td>A lot of small #iopsych firms possess similarly sensitive datasets and perhaps donâ€™t fully appreciate data security as they should; a cautionary tale for sure in here: â€œHere's What It's Like to Accidentally Expose the Data of 230M Peopleâ€ https://t.co/yq1hSRpn96                       </td></tr>\n",
       "\t<tr><th scope=row>403</th><td>RT Talent_metrics \"RT SIOP_ECC: \"SIOP's 2019  Early Career Practitioner Consortium Looks Amazing\" TalyaBauer:  https://t.co/Uu1EF8YB94 #IOPsych, #SIOP19 https://t.co/us0EZvfhKv\"                                                                                                                  </td></tr>\n",
       "\t<tr><th scope=row>669</th><td>A flipped workplace optimizes for productivity and accountability. https://t.co/Hsrj51Ymxy @qz @Allison_Baum #Productivity #IOPsych #CompanyCulture #OrgDev #Workplace                                                                                                                             </td></tr>\n",
       "\t<tr><th scope=row>387</th><td>Have any of my Twitter pals published a non-fiction book? I have an idea I've been toying with relating to #iopsych / management, and I'd love to start really exploring the possibility. Not sure how one gets a publisher! https://t.co/iJPlGEue8G                                               </td></tr>\n",
       "\t<tr><th scope=row>119</th><td>Almost all apps of #IOpsych (selection, HR Planning, leadership, PA, OD) = measurement against criteria to gauge effectiveness.                                                                                                                                                                    </td></tr>\n",
       "\t<tr><th scope=row>229</th><td>exciting #siop19 news: #cherryblossoms are the real deal, folks @sioptweets #iopysch...Cherry blossom forecast: Peak bloom in Washington around April 3 https://t.co/smLaqcjA8B                                                                                                                    </td></tr>\n",
       "\t<tr><th scope=row>237</th><td>Newsworthy or statistical artifact? \n",
       "\n",
       "If @Google controls for all factorsâ€”eg, gender &amp;amp; performanceâ€”then raises pay to match predicted level (but not raising anyoneâ€˜s already above that predicted mean), are they simply eliminating standard error? #iopsych\n",
       "https://t.co/cTFgW6qkVw</td></tr>\n",
       "\t<tr><th scope=row>14</th><td><span style=white-space:pre-wrap>Just a few days until the next @ATDNYC People Science SIG event w Dr. Cynthia Hedricks &amp;amp; Dr Disha Rupayana from @SkillSurvey at @IOatBaruch Register for this event here: https://t.co/aNBh1onN8I #IOpsych #datadriven #textanalytics #PeopleAnalytics #HRanalytics https://t.co/xTXsWuaYt9    </span></td></tr>\n",
       "</tbody>\n",
       "</table>\n"
      ],
      "text/latex": [
       "\\begin{tabular}{r|l}\n",
       "  & text\\\\\n",
       "\\hline\n",
       "\t675 & \\#GQRevents is excited to attend SIOP 2019 in Washington, D.C on April 2-6th! Learn more about the conference here  \\&gt;\\&gt; https://t.co/R9MOVMPqPK \\#SIOP19 https://t.co/JTMYPRhYJ3                                                                                                                \\\\\n",
       "\t136 & Need a new headshot? \n",
       "Looking for a new linkedin profile picture? \n",
       "Check it out \\#IOPsych peeps!\n",
       " See you in less than 4 weeks... https://t.co/wKRUwgkhdL                                                                                                                                        \\\\\n",
       "\t370 & A lot of small \\#iopsych firms possess similarly sensitive datasets and perhaps donâ€™t fully appreciate data security as they should; a cautionary tale for sure in here: â€œHere's What It's Like to Accidentally Expose the Data of 230M Peopleâ€ https://t.co/yq1hSRpn96                       \\\\\n",
       "\t403 & RT Talent\\_metrics \"RT SIOP\\_ECC: \"SIOP's 2019  Early Career Practitioner Consortium Looks Amazing\" TalyaBauer:  https://t.co/Uu1EF8YB94 \\#IOPsych, \\#SIOP19 https://t.co/us0EZvfhKv\"                                                                                                                  \\\\\n",
       "\t669 & A flipped workplace optimizes for productivity and accountability. https://t.co/Hsrj51Ymxy @qz @Allison\\_Baum \\#Productivity \\#IOPsych \\#CompanyCulture \\#OrgDev \\#Workplace                                                                                                                             \\\\\n",
       "\t387 & Have any of my Twitter pals published a non-fiction book? I have an idea I've been toying with relating to \\#iopsych / management, and I'd love to start really exploring the possibility. Not sure how one gets a publisher! https://t.co/iJPlGEue8G                                               \\\\\n",
       "\t119 & Almost all apps of \\#IOpsych (selection, HR Planning, leadership, PA, OD) = measurement against criteria to gauge effectiveness.                                                                                                                                                                    \\\\\n",
       "\t229 & exciting \\#siop19 news: \\#cherryblossoms are the real deal, folks @sioptweets \\#iopysch...Cherry blossom forecast: Peak bloom in Washington around April 3 https://t.co/smLaqcjA8B                                                                                                                    \\\\\n",
       "\t237 & Newsworthy or statistical artifact? \n",
       "\n",
       "If @Google controls for all factorsâ€”eg, gender \\&amp; performanceâ€”then raises pay to match predicted level (but not raising anyoneâ€˜s already above that predicted mean), are they simply eliminating standard error? \\#iopsych\n",
       "https://t.co/cTFgW6qkVw\\\\\n",
       "\t14 & Just a few days until the next @ATDNYC People Science SIG event w Dr. Cynthia Hedricks \\&amp; Dr Disha Rupayana from @SkillSurvey at @IOatBaruch Register for this event here: https://t.co/aNBh1onN8I \\#IOpsych \\#datadriven \\#textanalytics \\#PeopleAnalytics \\#HRanalytics https://t.co/xTXsWuaYt9    \\\\\n",
       "\\end{tabular}\n"
      ],
      "text/markdown": [
       "\n",
       "| <!--/--> | text |\n",
       "|---|---|\n",
       "| 675 | #GQRevents is excited to attend SIOP 2019 in Washington, D.C on April 2-6th! Learn more about the conference here  &gt;&gt; https://t.co/R9MOVMPqPK #SIOP19 https://t.co/JTMYPRhYJ3                                                                                                                 |\n",
       "| 136 | Need a new headshot? \n",
       "Looking for a new linkedin profile picture? \n",
       "Check it out #IOPsych peeps!\n",
       " See you in less than 4 weeks... https://t.co/wKRUwgkhdL                                                                                                                                         |\n",
       "| 370 | A lot of small #iopsych firms possess similarly sensitive datasets and perhaps donâ€™t fully appreciate data security as they should; a cautionary tale for sure in here: â€œHere's What It's Like to Accidentally Expose the Data of 230M Peopleâ€ https://t.co/yq1hSRpn96                        |\n",
       "| 403 | RT Talent_metrics \"RT SIOP_ECC: \"SIOP's 2019  Early Career Practitioner Consortium Looks Amazing\" TalyaBauer:  https://t.co/Uu1EF8YB94 #IOPsych, #SIOP19 https://t.co/us0EZvfhKv\"                                                                                                                   |\n",
       "| 669 | A flipped workplace optimizes for productivity and accountability. https://t.co/Hsrj51Ymxy @qz @Allison_Baum #Productivity #IOPsych #CompanyCulture #OrgDev #Workplace                                                                                                                              |\n",
       "| 387 | Have any of my Twitter pals published a non-fiction book? I have an idea I've been toying with relating to #iopsych / management, and I'd love to start really exploring the possibility. Not sure how one gets a publisher! https://t.co/iJPlGEue8G                                                |\n",
       "| 119 | Almost all apps of #IOpsych (selection, HR Planning, leadership, PA, OD) = measurement against criteria to gauge effectiveness.                                                                                                                                                                     |\n",
       "| 229 | exciting #siop19 news: #cherryblossoms are the real deal, folks @sioptweets #iopysch...Cherry blossom forecast: Peak bloom in Washington around April 3 https://t.co/smLaqcjA8B                                                                                                                     |\n",
       "| 237 | Newsworthy or statistical artifact? \n",
       "\n",
       "If @Google controls for all factorsâ€”eg, gender &amp; performanceâ€”then raises pay to match predicted level (but not raising anyoneâ€˜s already above that predicted mean), are they simply eliminating standard error? #iopsych\n",
       "https://t.co/cTFgW6qkVw |\n",
       "| 14 | Just a few days until the next @ATDNYC People Science SIG event w Dr. Cynthia Hedricks &amp; Dr Disha Rupayana from @SkillSurvey at @IOatBaruch Register for this event here: https://t.co/aNBh1onN8I #IOpsych #datadriven #textanalytics #PeopleAnalytics #HRanalytics https://t.co/xTXsWuaYt9     |\n",
       "\n"
      ],
      "text/plain": [
       "    text                                                                                                                                                                                                                                                                                               \n",
       "675 #GQRevents is excited to attend SIOP 2019 in Washington, D.C on April 2-6th! Learn more about the conference here  &gt;&gt; https://t.co/R9MOVMPqPK #SIOP19 https://t.co/JTMYPRhYJ3                                                                                                                \n",
       "136 Need a new headshot? \\nLooking for a new linkedin profile picture? \\nCheck it out #IOPsych peeps!\\n See you in less than 4 weeks... https://t.co/wKRUwgkhdL                                                                                                                                        \n",
       "370 A lot of small #iopsych firms possess similarly sensitive datasets and perhaps donâ\\200\\231t fully appreciate data security as they should; a cautionary tale for sure in here: â\\200œHere's What It's Like to Accidentally Expose the Data of 230M Peopleâ\\200\\235 https://t.co/yq1hSRpn96                       \n",
       "403 RT Talent_metrics \"RT SIOP_ECC: \"SIOP's 2019  Early Career Practitioner Consortium Looks Amazing\" TalyaBauer:  https://t.co/Uu1EF8YB94 #IOPsych, #SIOP19 https://t.co/us0EZvfhKv\"                                                                                                                  \n",
       "669 A flipped workplace optimizes for productivity and accountability. https://t.co/Hsrj51Ymxy @qz @Allison_Baum #Productivity #IOPsych #CompanyCulture #OrgDev #Workplace                                                                                                                             \n",
       "387 Have any of my Twitter pals published a non-fiction book? I have an idea I've been toying with relating to #iopsych / management, and I'd love to start really exploring the possibility. Not sure how one gets a publisher! https://t.co/iJPlGEue8G                                               \n",
       "119 Almost all apps of #IOpsych (selection, HR Planning, leadership, PA, OD) = measurement against criteria to gauge effectiveness.                                                                                                                                                                    \n",
       "229 exciting #siop19 news: #cherryblossoms are the real deal, folks @sioptweets #iopysch...Cherry blossom forecast: Peak bloom in Washington around April 3 https://t.co/smLaqcjA8B                                                                                                                    \n",
       "237 Newsworthy or statistical artifact? \\n\\nIf @Google controls for all factorsâ\\200”eg, gender &amp; performanceâ\\200”then raises pay to match predicted level (but not raising anyoneâ\\200\\230s already above that predicted mean), are they simply eliminating standard error? #iopsych\\nhttps://t.co/cTFgW6qkVw\n",
       "14  Just a few days until the next @ATDNYC People Science SIG event w Dr. Cynthia Hedricks &amp; Dr Disha Rupayana from @SkillSurvey at @IOatBaruch Register for this event here: https://t.co/aNBh1onN8I #IOpsych #datadriven #textanalytics #PeopleAnalytics #HRanalytics https://t.co/xTXsWuaYt9    "
      ]
     },
     "metadata": {},
     "output_type": "display_data"
    }
   ],
   "source": [
    "tweets_preprocessed %>%\n",
    "mutate(text = as.character(text))%>%\n",
    "select(text)%>%\n",
    "sample_n(size = 10)"
   ]
  },
  {
   "cell_type": "markdown",
   "metadata": {},
   "source": [
    "Now we need to do some preprocessing. We'll remove URLs, retweets, hashtags, mentions, special characters, punctuation, and stopwords. \n",
    "\n",
    "We'll also strip white space, and convert to lowercase. "
   ]
  },
  {
   "cell_type": "code",
   "execution_count": 52,
   "metadata": {},
   "outputs": [],
   "source": [
    "#preprocess tweet test\n",
    "tweets_preprocessed$text <- lapply(tweets_preprocessed$text, function(x) {\n",
    "\n",
    "  x = gsub('http\\\\S+\\\\s*', '', x) # Remove URLs\n",
    "  x = gsub('[[:punct:]]', '', x) # Remove Punctuations\n",
    "  x =  iconv(x,from=\"UTF-8\",to=\"ASCII//TRANSLIT\") # remove accents\n",
    "  x = gsub('\\\\b+RT', '', x) # Remove RT\n",
    "  x = gsub('#\\\\S+', '', x) # Remove Hashtags\n",
    "  x = gsub('@\\\\S+', '', x) # Remove Mentions\n",
    "  x = gsub('[[:cntrl:]]', '', x) # Remove Controls and special characters\n",
    "  x = str_to_lower(x) # convert to lowercase\n",
    "  x = removeWords(x, stopwords(\"en\")) # remove stopwords\n",
    "  x = removeWords(x, c(\"amp\", \"dont\",\"get\", \"will\",\"use\")) # remove \"amp\" associated with & and other words that are not meaningful in this context\n",
    "  x = gsub(' +',' ',x) # Remove extra whitespaces\n",
    "  \n",
    "})\n"
   ]
  },
  {
   "cell_type": "markdown",
   "metadata": {},
   "source": [
    "Let's re-examine the text after preprocessing. "
   ]
  },
  {
   "cell_type": "code",
   "execution_count": 53,
   "metadata": {},
   "outputs": [
    {
     "data": {
      "text/html": [
       "<table>\n",
       "<thead><tr><th></th><th scope=col>text</th></tr></thead>\n",
       "<tbody>\n",
       "\t<tr><th scope=row>372</th><td> people look twitter account program place spread awareness faculty graduate students research conference presentations celebrate thesis dissertation milestones like see </td></tr>\n",
       "\t<tr><th scope=row>76</th><td>siops early career practitioner consortium looks amazing                                                                                                                  </td></tr>\n",
       "\t<tr><th scope=row>58</th><td>shl thread haves variety positions open around globe ranging consulting interested contact referral bonus job winwin                                                      </td></tr>\n",
       "\t<tr><th scope=row>264</th><td>excited giving two talks summer psychology change need endtoend process design                                                                                            </td></tr>\n",
       "\t<tr><th scope=row>580</th><td>performance appraisal satisfaction organizational commitment                                                                                                              </td></tr>\n",
       "\t<tr><th scope=row>371</th><td> often like see program account tweet month week                                                                                                                          </td></tr>\n",
       "\t<tr><th scope=row>158</th><td>submit research project award grant apply scholarship funding help expense carrying dissertation research nominate deserving colleague one siopas distinguished awards    </td></tr>\n",
       "\t<tr><th scope=row>317</th><td> women thrive economies thrive just post post tweet tweet make difference                                                                                                 </td></tr>\n",
       "\t<tr><th scope=row>358</th><td>looking think growing needs io psychology students gain inside classroom look see student org can fill gaps                                                               </td></tr>\n",
       "\t<tr><th scope=row>292</th><td> aintersectionala jinglejangle fallacy ainteraction effecta                                                                                                               </td></tr>\n",
       "</tbody>\n",
       "</table>\n"
      ],
      "text/latex": [
       "\\begin{tabular}{r|l}\n",
       "  & text\\\\\n",
       "\\hline\n",
       "\t372 &  people look twitter account program place spread awareness faculty graduate students research conference presentations celebrate thesis dissertation milestones like see \\\\\n",
       "\t76 & siops early career practitioner consortium looks amazing                                                                                                                  \\\\\n",
       "\t58 & shl thread haves variety positions open around globe ranging consulting interested contact referral bonus job winwin                                                      \\\\\n",
       "\t264 & excited giving two talks summer psychology change need endtoend process design                                                                                            \\\\\n",
       "\t580 & performance appraisal satisfaction organizational commitment                                                                                                              \\\\\n",
       "\t371 &  often like see program account tweet month week                                                                                                                          \\\\\n",
       "\t158 & submit research project award grant apply scholarship funding help expense carrying dissertation research nominate deserving colleague one siopas distinguished awards    \\\\\n",
       "\t317 &  women thrive economies thrive just post post tweet tweet make difference                                                                                                 \\\\\n",
       "\t358 & looking think growing needs io psychology students gain inside classroom look see student org can fill gaps                                                               \\\\\n",
       "\t292 &  aintersectionala jinglejangle fallacy ainteraction effecta                                                                                                               \\\\\n",
       "\\end{tabular}\n"
      ],
      "text/markdown": [
       "\n",
       "| <!--/--> | text |\n",
       "|---|---|\n",
       "| 372 |  people look twitter account program place spread awareness faculty graduate students research conference presentations celebrate thesis dissertation milestones like see  |\n",
       "| 76 | siops early career practitioner consortium looks amazing                                                                                                                   |\n",
       "| 58 | shl thread haves variety positions open around globe ranging consulting interested contact referral bonus job winwin                                                       |\n",
       "| 264 | excited giving two talks summer psychology change need endtoend process design                                                                                             |\n",
       "| 580 | performance appraisal satisfaction organizational commitment                                                                                                               |\n",
       "| 371 |  often like see program account tweet month week                                                                                                                           |\n",
       "| 158 | submit research project award grant apply scholarship funding help expense carrying dissertation research nominate deserving colleague one siopas distinguished awards     |\n",
       "| 317 |  women thrive economies thrive just post post tweet tweet make difference                                                                                                  |\n",
       "| 358 | looking think growing needs io psychology students gain inside classroom look see student org can fill gaps                                                                |\n",
       "| 292 |  aintersectionala jinglejangle fallacy ainteraction effecta                                                                                                                |\n",
       "\n"
      ],
      "text/plain": [
       "    text                                                                                                                                                                      \n",
       "372  people look twitter account program place spread awareness faculty graduate students research conference presentations celebrate thesis dissertation milestones like see \n",
       "76  siops early career practitioner consortium looks amazing                                                                                                                  \n",
       "58  shl thread haves variety positions open around globe ranging consulting interested contact referral bonus job winwin                                                      \n",
       "264 excited giving two talks summer psychology change need endtoend process design                                                                                            \n",
       "580 performance appraisal satisfaction organizational commitment                                                                                                              \n",
       "371  often like see program account tweet month week                                                                                                                          \n",
       "158 submit research project award grant apply scholarship funding help expense carrying dissertation research nominate deserving colleague one siopas distinguished awards    \n",
       "317  women thrive economies thrive just post post tweet tweet make difference                                                                                                 \n",
       "358 looking think growing needs io psychology students gain inside classroom look see student org can fill gaps                                                               \n",
       "292  aintersectionala jinglejangle fallacy ainteraction effecta                                                                                                               "
      ]
     },
     "metadata": {},
     "output_type": "display_data"
    }
   ],
   "source": [
    "tweets_preprocessed %>%\n",
    "mutate(text = as.character(text))%>%\n",
    "select(text)%>%\n",
    "sample_n(size = 10)\n"
   ]
  },
  {
   "cell_type": "markdown",
   "metadata": {},
   "source": [
    "Now we need to create a corpus and convert our text into a document term matrix (rows are tweets, columns are n-grams)"
   ]
  },
  {
   "cell_type": "code",
   "execution_count": 54,
   "metadata": {},
   "outputs": [
    {
     "data": {
      "text/html": [
       "<table>\n",
       "<thead><tr><th scope=col>also</th><th scope=col>amazing</th><th scope=col>annual</th><th scope=col>another</th><th scope=col>april</th><th scope=col>around</th><th scope=col>article</th><th scope=col>ask</th><th scope=col>attend</th><th scope=col>available</th><th scope=col>...</th><th scope=col>well</th><th scope=col>work</th><th scope=col>working</th><th scope=col>workplace</th><th scope=col>workshop</th><th scope=col>world</th><th scope=col>worth</th><th scope=col>year</th><th scope=col>years</th><th scope=col>youll</th></tr></thead>\n",
       "<tbody>\n",
       "\t<tr><td>0  </td><td>0  </td><td>0  </td><td>0  </td><td>0  </td><td>0  </td><td>0  </td><td>0  </td><td>0  </td><td>0  </td><td>...</td><td>0  </td><td>0  </td><td>0  </td><td>0  </td><td>0  </td><td>0  </td><td>0  </td><td>0  </td><td>0  </td><td>0  </td></tr>\n",
       "\t<tr><td>0  </td><td>0  </td><td>0  </td><td>0  </td><td>0  </td><td>0  </td><td>0  </td><td>0  </td><td>0  </td><td>0  </td><td>...</td><td>0  </td><td>0  </td><td>0  </td><td>0  </td><td>0  </td><td>0  </td><td>0  </td><td>0  </td><td>0  </td><td>0  </td></tr>\n",
       "\t<tr><td>0  </td><td>0  </td><td>0  </td><td>0  </td><td>0  </td><td>0  </td><td>0  </td><td>0  </td><td>0  </td><td>0  </td><td>...</td><td>0  </td><td>0  </td><td>0  </td><td>0  </td><td>0  </td><td>0  </td><td>0  </td><td>0  </td><td>0  </td><td>0  </td></tr>\n",
       "\t<tr><td>0  </td><td>0  </td><td>0  </td><td>0  </td><td>0  </td><td>0  </td><td>0  </td><td>0  </td><td>0  </td><td>0  </td><td>...</td><td>0  </td><td>0  </td><td>0  </td><td>0  </td><td>0  </td><td>0  </td><td>0  </td><td>0  </td><td>0  </td><td>0  </td></tr>\n",
       "\t<tr><td>0  </td><td>0  </td><td>0  </td><td>0  </td><td>0  </td><td>0  </td><td>0  </td><td>0  </td><td>0  </td><td>0  </td><td>...</td><td>0  </td><td>0  </td><td>0  </td><td>1  </td><td>0  </td><td>0  </td><td>0  </td><td>0  </td><td>0  </td><td>0  </td></tr>\n",
       "\t<tr><td>0  </td><td>0  </td><td>0  </td><td>1  </td><td>0  </td><td>0  </td><td>0  </td><td>0  </td><td>2  </td><td>0  </td><td>...</td><td>0  </td><td>0  </td><td>0  </td><td>0  </td><td>0  </td><td>0  </td><td>0  </td><td>0  </td><td>0  </td><td>0  </td></tr>\n",
       "</tbody>\n",
       "</table>\n"
      ],
      "text/latex": [
       "\\begin{tabular}{r|lllllllllllllllllllllllllllllllllllllllllllllllllllllllllllllllllllllllllllllllllllllllllllllllllllllllllllllllllllllllllllllllllllllllllllllllllllllllllllllllllllllllllllllllllllllllllllllllllllllllllllll}\n",
       " also & amazing & annual & another & april & around & article & ask & attend & available & ... & well & work & working & workplace & workshop & world & worth & year & years & youll\\\\\n",
       "\\hline\n",
       "\t 0   & 0   & 0   & 0   & 0   & 0   & 0   & 0   & 0   & 0   & ... & 0   & 0   & 0   & 0   & 0   & 0   & 0   & 0   & 0   & 0  \\\\\n",
       "\t 0   & 0   & 0   & 0   & 0   & 0   & 0   & 0   & 0   & 0   & ... & 0   & 0   & 0   & 0   & 0   & 0   & 0   & 0   & 0   & 0  \\\\\n",
       "\t 0   & 0   & 0   & 0   & 0   & 0   & 0   & 0   & 0   & 0   & ... & 0   & 0   & 0   & 0   & 0   & 0   & 0   & 0   & 0   & 0  \\\\\n",
       "\t 0   & 0   & 0   & 0   & 0   & 0   & 0   & 0   & 0   & 0   & ... & 0   & 0   & 0   & 0   & 0   & 0   & 0   & 0   & 0   & 0  \\\\\n",
       "\t 0   & 0   & 0   & 0   & 0   & 0   & 0   & 0   & 0   & 0   & ... & 0   & 0   & 0   & 1   & 0   & 0   & 0   & 0   & 0   & 0  \\\\\n",
       "\t 0   & 0   & 0   & 1   & 0   & 0   & 0   & 0   & 2   & 0   & ... & 0   & 0   & 0   & 0   & 0   & 0   & 0   & 0   & 0   & 0  \\\\\n",
       "\\end{tabular}\n"
      ],
      "text/markdown": [
       "\n",
       "| also | amazing | annual | another | april | around | article | ask | attend | available | ... | well | work | working | workplace | workshop | world | worth | year | years | youll |\n",
       "|---|---|---|---|---|---|---|---|---|---|---|---|---|---|---|---|---|---|---|---|---|\n",
       "| 0   | 0   | 0   | 0   | 0   | 0   | 0   | 0   | 0   | 0   | ... | 0   | 0   | 0   | 0   | 0   | 0   | 0   | 0   | 0   | 0   |\n",
       "| 0   | 0   | 0   | 0   | 0   | 0   | 0   | 0   | 0   | 0   | ... | 0   | 0   | 0   | 0   | 0   | 0   | 0   | 0   | 0   | 0   |\n",
       "| 0   | 0   | 0   | 0   | 0   | 0   | 0   | 0   | 0   | 0   | ... | 0   | 0   | 0   | 0   | 0   | 0   | 0   | 0   | 0   | 0   |\n",
       "| 0   | 0   | 0   | 0   | 0   | 0   | 0   | 0   | 0   | 0   | ... | 0   | 0   | 0   | 0   | 0   | 0   | 0   | 0   | 0   | 0   |\n",
       "| 0   | 0   | 0   | 0   | 0   | 0   | 0   | 0   | 0   | 0   | ... | 0   | 0   | 0   | 1   | 0   | 0   | 0   | 0   | 0   | 0   |\n",
       "| 0   | 0   | 0   | 1   | 0   | 0   | 0   | 0   | 2   | 0   | ... | 0   | 0   | 0   | 0   | 0   | 0   | 0   | 0   | 0   | 0   |\n",
       "\n"
      ],
      "text/plain": [
       "  also amazing annual another april around article ask attend available ...\n",
       "1 0    0       0      0       0     0      0       0   0      0         ...\n",
       "2 0    0       0      0       0     0      0       0   0      0         ...\n",
       "3 0    0       0      0       0     0      0       0   0      0         ...\n",
       "4 0    0       0      0       0     0      0       0   0      0         ...\n",
       "5 0    0       0      0       0     0      0       0   0      0         ...\n",
       "6 0    0       0      1       0     0      0       0   2      0         ...\n",
       "  well work working workplace workshop world worth year years youll\n",
       "1 0    0    0       0         0        0     0     0    0     0    \n",
       "2 0    0    0       0         0        0     0     0    0     0    \n",
       "3 0    0    0       0         0        0     0     0    0     0    \n",
       "4 0    0    0       0         0        0     0     0    0     0    \n",
       "5 0    0    0       1         0        0     0     0    0     0    \n",
       "6 0    0    0       0         0        0     0     0    0     0    "
      ]
     },
     "metadata": {},
     "output_type": "display_data"
    }
   ],
   "source": [
    "tweets_corpus <- VCorpus(VectorSource(tweets_preprocessed$text))# Convert to corpus\n",
    "\n",
    "tweets_dtm <- DocumentTermMatrix(tweets_corpus) #create a document-term-matrix\n",
    "tweets_dtm <- removeSparseTerms(tweets_dtm, 0.99)# We'll also get rid of relatively unusual terms\n",
    "DTM_df <- as.data.frame(as.matrix(tweets_dtm)) #finally let's convert the dtm into a dataframe\n",
    "head(DTM_df)"
   ]
  },
  {
   "cell_type": "markdown",
   "metadata": {},
   "source": [
    "Now that our tweet text is clean, let's start to look the text a bit. We can visualize common words with a simple wordcloud."
   ]
  },
  {
   "cell_type": "code",
   "execution_count": 55,
   "metadata": {},
   "outputs": [
    {
     "data": {
      "image/png": "[encoded data removed]",
      "text/plain": [
       "plot without title"
      ]
     },
     "metadata": {},
     "output_type": "display_data"
    }
   ],
   "source": [
    "# Create wordcloud\n",
    "wordCounts <- colSums(DTM_df)\n",
    "wordNames <- names(DTM_df)\n",
    "options(repr.plot.width=6, repr.plot.height=6) #resize plot\n",
    "wordcloud(wordNames, wordCounts, max.words=30,, colors = brewer.pal(8, \"Dark2\"))"
   ]
  },
  {
   "cell_type": "markdown",
   "metadata": {},
   "source": [
    "We can also look at the a list of the most frequent words"
   ]
  },
  {
   "cell_type": "code",
   "execution_count": 56,
   "metadata": {},
   "outputs": [
    {
     "name": "stderr",
     "output_type": "stream",
     "text": [
      "Selecting by wordCounts\n"
     ]
    },
    {
     "data": {
      "text/html": [
       "<table>\n",
       "<thead><tr><th scope=col>wordNames</th><th scope=col>wordCounts</th></tr></thead>\n",
       "<tbody>\n",
       "\t<tr><td>siop         </td><td>52           </td></tr>\n",
       "\t<tr><td>work         </td><td>52           </td></tr>\n",
       "\t<tr><td>conference   </td><td>51           </td></tr>\n",
       "\t<tr><td>new          </td><td>49           </td></tr>\n",
       "\t<tr><td>today        </td><td>49           </td></tr>\n",
       "\t<tr><td>can          </td><td>48           </td></tr>\n",
       "\t<tr><td>talentmetrics</td><td>46           </td></tr>\n",
       "\t<tr><td>people       </td><td>45           </td></tr>\n",
       "\t<tr><td>great        </td><td>44           </td></tr>\n",
       "\t<tr><td>career       </td><td>41           </td></tr>\n",
       "\t<tr><td>learn        </td><td>34           </td></tr>\n",
       "\t<tr><td>students     </td><td>34           </td></tr>\n",
       "\t<tr><td>job          </td><td>32           </td></tr>\n",
       "\t<tr><td>april        </td><td>31           </td></tr>\n",
       "\t<tr><td>help         </td><td>31           </td></tr>\n",
       "\t<tr><td>looking      </td><td>30           </td></tr>\n",
       "\t<tr><td>register     </td><td>30           </td></tr>\n",
       "\t<tr><td>like         </td><td>29           </td></tr>\n",
       "\t<tr><td>research     </td><td>29           </td></tr>\n",
       "\t<tr><td>one          </td><td>28           </td></tr>\n",
       "\t<tr><td>psychology   </td><td>28           </td></tr>\n",
       "</tbody>\n",
       "</table>\n"
      ],
      "text/latex": [
       "\\begin{tabular}{r|ll}\n",
       " wordNames & wordCounts\\\\\n",
       "\\hline\n",
       "\t siop          & 52           \\\\\n",
       "\t work          & 52           \\\\\n",
       "\t conference    & 51           \\\\\n",
       "\t new           & 49           \\\\\n",
       "\t today         & 49           \\\\\n",
       "\t can           & 48           \\\\\n",
       "\t talentmetrics & 46           \\\\\n",
       "\t people        & 45           \\\\\n",
       "\t great         & 44           \\\\\n",
       "\t career        & 41           \\\\\n",
       "\t learn         & 34           \\\\\n",
       "\t students      & 34           \\\\\n",
       "\t job           & 32           \\\\\n",
       "\t april         & 31           \\\\\n",
       "\t help          & 31           \\\\\n",
       "\t looking       & 30           \\\\\n",
       "\t register      & 30           \\\\\n",
       "\t like          & 29           \\\\\n",
       "\t research      & 29           \\\\\n",
       "\t one           & 28           \\\\\n",
       "\t psychology    & 28           \\\\\n",
       "\\end{tabular}\n"
      ],
      "text/markdown": [
       "\n",
       "| wordNames | wordCounts |\n",
       "|---|---|\n",
       "| siop          | 52            |\n",
       "| work          | 52            |\n",
       "| conference    | 51            |\n",
       "| new           | 49            |\n",
       "| today         | 49            |\n",
       "| can           | 48            |\n",
       "| talentmetrics | 46            |\n",
       "| people        | 45            |\n",
       "| great         | 44            |\n",
       "| career        | 41            |\n",
       "| learn         | 34            |\n",
       "| students      | 34            |\n",
       "| job           | 32            |\n",
       "| april         | 31            |\n",
       "| help          | 31            |\n",
       "| looking       | 30            |\n",
       "| register      | 30            |\n",
       "| like          | 29            |\n",
       "| research      | 29            |\n",
       "| one           | 28            |\n",
       "| psychology    | 28            |\n",
       "\n"
      ],
      "text/plain": [
       "   wordNames     wordCounts\n",
       "1  siop          52        \n",
       "2  work          52        \n",
       "3  conference    51        \n",
       "4  new           49        \n",
       "5  today         49        \n",
       "6  can           48        \n",
       "7  talentmetrics 46        \n",
       "8  people        45        \n",
       "9  great         44        \n",
       "10 career        41        \n",
       "11 learn         34        \n",
       "12 students      34        \n",
       "13 job           32        \n",
       "14 april         31        \n",
       "15 help          31        \n",
       "16 looking       30        \n",
       "17 register      30        \n",
       "18 like          29        \n",
       "19 research      29        \n",
       "20 one           28        \n",
       "21 psychology    28        "
      ]
     },
     "metadata": {},
     "output_type": "display_data"
    }
   ],
   "source": [
    "tibble(wordNames, wordCounts) %>% arrange(desc(wordCounts)) %>% top_n(20)"
   ]
  },
  {
   "cell_type": "markdown",
   "metadata": {},
   "source": [
    "Let's also analyze the sentiment of tweets and break down word clounds by sentiment. Perhaps we'll see what negative and positive words people are using. \n",
    "\n",
    "We'll use the **tidytext** package. Sentiment can be calculated in a number of ways. You can use dictionaries that assign scores to individual words (a really negative word is -5 and a really positive word is 5). You can also label individual words as positive or negative. For this example, we'll score individual words using the bing dictionary which labels words as positive or negative (https://www.cs.uic.edu/~liub/FBS/sentiment-analysis.html).\n",
    "\n",
    "Here's what the word dictionary looks like:"
   ]
  },
  {
   "cell_type": "code",
   "execution_count": 57,
   "metadata": {},
   "outputs": [
    {
     "data": {
      "text/html": [
       "<table>\n",
       "<thead><tr><th scope=col>word</th><th scope=col>sentiment</th></tr></thead>\n",
       "<tbody>\n",
       "\t<tr><td>zealous  </td><td>negative </td></tr>\n",
       "\t<tr><td>zealously</td><td>negative </td></tr>\n",
       "\t<tr><td>zenith   </td><td>positive </td></tr>\n",
       "\t<tr><td>zest     </td><td>positive </td></tr>\n",
       "\t<tr><td>zippy    </td><td>positive </td></tr>\n",
       "\t<tr><td>zombie   </td><td>negative </td></tr>\n",
       "</tbody>\n",
       "</table>\n"
      ],
      "text/latex": [
       "\\begin{tabular}{r|ll}\n",
       " word & sentiment\\\\\n",
       "\\hline\n",
       "\t zealous   & negative \\\\\n",
       "\t zealously & negative \\\\\n",
       "\t zenith    & positive \\\\\n",
       "\t zest      & positive \\\\\n",
       "\t zippy     & positive \\\\\n",
       "\t zombie    & negative \\\\\n",
       "\\end{tabular}\n"
      ],
      "text/markdown": [
       "\n",
       "| word | sentiment |\n",
       "|---|---|\n",
       "| zealous   | negative  |\n",
       "| zealously | negative  |\n",
       "| zenith    | positive  |\n",
       "| zest      | positive  |\n",
       "| zippy     | positive  |\n",
       "| zombie    | negative  |\n",
       "\n"
      ],
      "text/plain": [
       "  word      sentiment\n",
       "1 zealous   negative \n",
       "2 zealously negative \n",
       "3 zenith    positive \n",
       "4 zest      positive \n",
       "5 zippy     positive \n",
       "6 zombie    negative "
      ]
     },
     "metadata": {},
     "output_type": "display_data"
    }
   ],
   "source": [
    "tail(get_sentiments(\"bing\"))\n"
   ]
  },
  {
   "cell_type": "code",
   "execution_count": 58,
   "metadata": {},
   "outputs": [],
   "source": [
    "#Prepare data for analyzing sentiment\n",
    "wordlist<-tibble(wordNames, wordCounts) #create a tibble of words and counts\n",
    "colnames(wordlist)<-c(\"word\",\"count\") #rename columns to match sentiment dictionary\n",
    "# we'll map on the sentiment labels with an inner_join\n",
    "# note that using an inner join will only keep words that exist in the sentiment dictionary\n",
    "sentiment_wordlist<- inner_join(wordlist, get_sentiments(\"bing\"), by = \"word\") \n"
   ]
  },
  {
   "cell_type": "markdown",
   "metadata": {},
   "source": [
    "You can see the newly classified words:"
   ]
  },
  {
   "cell_type": "code",
   "execution_count": 59,
   "metadata": {},
   "outputs": [
    {
     "data": {
      "text/html": [
       "<table>\n",
       "<thead><tr><th scope=col>word</th><th scope=col>count</th><th scope=col>sentiment</th></tr></thead>\n",
       "<tbody>\n",
       "\t<tr><td>amazing  </td><td> 8       </td><td>positive </td></tr>\n",
       "\t<tr><td>available</td><td> 8       </td><td>positive </td></tr>\n",
       "\t<tr><td>awesome  </td><td> 9       </td><td>positive </td></tr>\n",
       "\t<tr><td>best     </td><td>18       </td><td>positive </td></tr>\n",
       "\t<tr><td>better   </td><td> 9       </td><td>positive </td></tr>\n",
       "\t<tr><td>cool     </td><td> 8       </td><td>positive </td></tr>\n",
       "</tbody>\n",
       "</table>\n"
      ],
      "text/latex": [
       "\\begin{tabular}{r|lll}\n",
       " word & count & sentiment\\\\\n",
       "\\hline\n",
       "\t amazing   &  8        & positive \\\\\n",
       "\t available &  8        & positive \\\\\n",
       "\t awesome   &  9        & positive \\\\\n",
       "\t best      & 18        & positive \\\\\n",
       "\t better    &  9        & positive \\\\\n",
       "\t cool      &  8        & positive \\\\\n",
       "\\end{tabular}\n"
      ],
      "text/markdown": [
       "\n",
       "| word | count | sentiment |\n",
       "|---|---|---|\n",
       "| amazing   |  8        | positive  |\n",
       "| available |  8        | positive  |\n",
       "| awesome   |  9        | positive  |\n",
       "| best      | 18        | positive  |\n",
       "| better    |  9        | positive  |\n",
       "| cool      |  8        | positive  |\n",
       "\n"
      ],
      "text/plain": [
       "  word      count sentiment\n",
       "1 amazing    8    positive \n",
       "2 available  8    positive \n",
       "3 awesome    9    positive \n",
       "4 best      18    positive \n",
       "5 better     9    positive \n",
       "6 cool       8    positive "
      ]
     },
     "metadata": {},
     "output_type": "display_data"
    }
   ],
   "source": [
    "head(sentiment_wordlist)"
   ]
  },
  {
   "cell_type": "markdown",
   "metadata": {},
   "source": [
    "We can now look at common positive and negative words:"
   ]
  },
  {
   "cell_type": "code",
   "execution_count": 60,
   "metadata": {},
   "outputs": [
    {
     "data": {
      "image/png": "[encoded data removed]",
      "text/plain": [
       "plot without title"
      ]
     },
     "metadata": {},
     "output_type": "display_data"
    },
    {
     "data": {
      "image/png": "[encoded data removed]",
      "text/plain": [
       "plot without title"
      ]
     },
     "metadata": {},
     "output_type": "display_data"
    }
   ],
   "source": [
    "options(repr.plot.width=4, repr.plot.height=4) #resize plot\n",
    "#par(mfrow=c(2,2)) #plot side by side\n",
    "#visualize positive words\n",
    "positivewordlist<- sentiment_wordlist %>%\n",
    "filter(sentiment == \"positive\") \n",
    "wordcloud(positivewordlist$word, positivewordlist$count, max.words=30,, colors = brewer.pal(8, \"Greens\"))\n",
    "\n",
    "#visualize negative words \n",
    "negativewordlist<- sentiment_wordlist %>%\n",
    "filter(sentiment == \"negative\") \n",
    "wordcloud(negativewordlist$word, positivewordlist$count, max.words=30,, colors = brewer.pal(8, \"Reds\"))"
   ]
  },
  {
   "cell_type": "markdown",
   "metadata": {},
   "source": [
    "## Predicting Tweet Popularity using Machine Learning\n",
    "Now say we want to predict retweets and favorite counts by the words used in a tweet."
   ]
  },
  {
   "cell_type": "code",
   "execution_count": 61,
   "metadata": {},
   "outputs": [
    {
     "data": {
      "text/html": [
       "<table>\n",
       "<thead><tr><th scope=col>ID</th><th scope=col>tweet_popularity</th><th scope=col>also</th><th scope=col>amazing</th><th scope=col>annual</th><th scope=col>another</th><th scope=col>april</th><th scope=col>around</th><th scope=col>article</th><th scope=col>ask</th><th scope=col>...</th><th scope=col>well</th><th scope=col>work</th><th scope=col>working</th><th scope=col>workplace</th><th scope=col>workshop</th><th scope=col>world</th><th scope=col>worth</th><th scope=col>year</th><th scope=col>years</th><th scope=col>youll</th></tr></thead>\n",
       "<tbody>\n",
       "\t<tr><td>1  </td><td> 0 </td><td>0  </td><td>0  </td><td>0  </td><td>0  </td><td>0  </td><td>0  </td><td>0  </td><td>0  </td><td>...</td><td>0  </td><td>0  </td><td>0  </td><td>0  </td><td>0  </td><td>0  </td><td>0  </td><td>0  </td><td>0  </td><td>0  </td></tr>\n",
       "\t<tr><td>2  </td><td> 2 </td><td>0  </td><td>0  </td><td>0  </td><td>0  </td><td>0  </td><td>0  </td><td>0  </td><td>0  </td><td>...</td><td>0  </td><td>0  </td><td>0  </td><td>0  </td><td>0  </td><td>0  </td><td>0  </td><td>0  </td><td>0  </td><td>0  </td></tr>\n",
       "\t<tr><td>3  </td><td>20 </td><td>0  </td><td>0  </td><td>0  </td><td>0  </td><td>0  </td><td>0  </td><td>0  </td><td>0  </td><td>...</td><td>0  </td><td>0  </td><td>0  </td><td>0  </td><td>0  </td><td>0  </td><td>0  </td><td>0  </td><td>0  </td><td>0  </td></tr>\n",
       "\t<tr><td>4  </td><td> 0 </td><td>0  </td><td>0  </td><td>0  </td><td>0  </td><td>0  </td><td>0  </td><td>0  </td><td>0  </td><td>...</td><td>0  </td><td>0  </td><td>0  </td><td>0  </td><td>0  </td><td>0  </td><td>0  </td><td>0  </td><td>0  </td><td>0  </td></tr>\n",
       "\t<tr><td>5  </td><td> 1 </td><td>0  </td><td>0  </td><td>0  </td><td>0  </td><td>0  </td><td>0  </td><td>0  </td><td>0  </td><td>...</td><td>0  </td><td>0  </td><td>0  </td><td>1  </td><td>0  </td><td>0  </td><td>0  </td><td>0  </td><td>0  </td><td>0  </td></tr>\n",
       "\t<tr><td>6  </td><td> 2 </td><td>0  </td><td>0  </td><td>0  </td><td>1  </td><td>0  </td><td>0  </td><td>0  </td><td>0  </td><td>...</td><td>0  </td><td>0  </td><td>0  </td><td>0  </td><td>0  </td><td>0  </td><td>0  </td><td>0  </td><td>0  </td><td>0  </td></tr>\n",
       "</tbody>\n",
       "</table>\n"
      ],
      "text/latex": [
       "\\begin{tabular}{r|lllllllllllllllllllllllllllllllllllllllllllllllllllllllllllllllllllllllllllllllllllllllllllllllllllllllllllllllllllllllllllllllllllllllllllllllllllllllllllllllllllllllllllllllllllllllllllllllllllllllllllllll}\n",
       " ID & tweet\\_popularity & also & amazing & annual & another & april & around & article & ask & ... & well & work & working & workplace & workshop & world & worth & year & years & youll\\\\\n",
       "\\hline\n",
       "\t 1   &  0  & 0   & 0   & 0   & 0   & 0   & 0   & 0   & 0   & ... & 0   & 0   & 0   & 0   & 0   & 0   & 0   & 0   & 0   & 0  \\\\\n",
       "\t 2   &  2  & 0   & 0   & 0   & 0   & 0   & 0   & 0   & 0   & ... & 0   & 0   & 0   & 0   & 0   & 0   & 0   & 0   & 0   & 0  \\\\\n",
       "\t 3   & 20  & 0   & 0   & 0   & 0   & 0   & 0   & 0   & 0   & ... & 0   & 0   & 0   & 0   & 0   & 0   & 0   & 0   & 0   & 0  \\\\\n",
       "\t 4   &  0  & 0   & 0   & 0   & 0   & 0   & 0   & 0   & 0   & ... & 0   & 0   & 0   & 0   & 0   & 0   & 0   & 0   & 0   & 0  \\\\\n",
       "\t 5   &  1  & 0   & 0   & 0   & 0   & 0   & 0   & 0   & 0   & ... & 0   & 0   & 0   & 1   & 0   & 0   & 0   & 0   & 0   & 0  \\\\\n",
       "\t 6   &  2  & 0   & 0   & 0   & 1   & 0   & 0   & 0   & 0   & ... & 0   & 0   & 0   & 0   & 0   & 0   & 0   & 0   & 0   & 0  \\\\\n",
       "\\end{tabular}\n"
      ],
      "text/markdown": [
       "\n",
       "| ID | tweet_popularity | also | amazing | annual | another | april | around | article | ask | ... | well | work | working | workplace | workshop | world | worth | year | years | youll |\n",
       "|---|---|---|---|---|---|---|---|---|---|---|---|---|---|---|---|---|---|---|---|---|\n",
       "| 1   |  0  | 0   | 0   | 0   | 0   | 0   | 0   | 0   | 0   | ... | 0   | 0   | 0   | 0   | 0   | 0   | 0   | 0   | 0   | 0   |\n",
       "| 2   |  2  | 0   | 0   | 0   | 0   | 0   | 0   | 0   | 0   | ... | 0   | 0   | 0   | 0   | 0   | 0   | 0   | 0   | 0   | 0   |\n",
       "| 3   | 20  | 0   | 0   | 0   | 0   | 0   | 0   | 0   | 0   | ... | 0   | 0   | 0   | 0   | 0   | 0   | 0   | 0   | 0   | 0   |\n",
       "| 4   |  0  | 0   | 0   | 0   | 0   | 0   | 0   | 0   | 0   | ... | 0   | 0   | 0   | 0   | 0   | 0   | 0   | 0   | 0   | 0   |\n",
       "| 5   |  1  | 0   | 0   | 0   | 0   | 0   | 0   | 0   | 0   | ... | 0   | 0   | 0   | 1   | 0   | 0   | 0   | 0   | 0   | 0   |\n",
       "| 6   |  2  | 0   | 0   | 0   | 1   | 0   | 0   | 0   | 0   | ... | 0   | 0   | 0   | 0   | 0   | 0   | 0   | 0   | 0   | 0   |\n",
       "\n"
      ],
      "text/plain": [
       "  ID tweet_popularity also amazing annual another april around article ask ...\n",
       "1 1   0               0    0       0      0       0     0      0       0   ...\n",
       "2 2   2               0    0       0      0       0     0      0       0   ...\n",
       "3 3  20               0    0       0      0       0     0      0       0   ...\n",
       "4 4   0               0    0       0      0       0     0      0       0   ...\n",
       "5 5   1               0    0       0      0       0     0      0       0   ...\n",
       "6 6   2               0    0       0      1       0     0      0       0   ...\n",
       "  well work working workplace workshop world worth year years youll\n",
       "1 0    0    0       0         0        0     0     0    0     0    \n",
       "2 0    0    0       0         0        0     0     0    0     0    \n",
       "3 0    0    0       0         0        0     0     0    0     0    \n",
       "4 0    0    0       0         0        0     0     0    0     0    \n",
       "5 0    0    0       1         0        0     0     0    0     0    \n",
       "6 0    0    0       0         0        0     0     0    0     0    "
      ]
     },
     "metadata": {},
     "output_type": "display_data"
    }
   ],
   "source": [
    "tweet_popularity <- mutate(tweets_preprocessed, tweet_popularity = favorite_count + retweet_count) %>%\n",
    "select(tweet_popularity)\n",
    "\n",
    "model_data <- cbind(DTM_df, tweet_popularity)\n",
    "\n",
    "#add in tweet ID number\n",
    "model_data$ID <- seq.int(nrow(model_data))\n",
    "\n",
    "#move ID and tweet popularity to front of dataset \n",
    "model_data <- select(model_data, ID, tweet_popularity, everything())\n",
    "head(model_data)\n"
   ]
  },
  {
   "cell_type": "code",
   "execution_count": 62,
   "metadata": {},
   "outputs": [
    {
     "data": {
      "text/html": [
       "<table>\n",
       "<thead><tr><th scope=col>model</th><th scope=col>validity</th></tr></thead>\n",
       "<tbody>\n",
       "\t<tr><td>JP-glmnet</td><td>0.1596877</td></tr>\n",
       "</tbody>\n",
       "</table>\n"
      ],
      "text/latex": [
       "\\begin{tabular}{r|ll}\n",
       " model & validity\\\\\n",
       "\\hline\n",
       "\t JP-glmnet & 0.1596877\\\\\n",
       "\\end{tabular}\n"
      ],
      "text/markdown": [
       "\n",
       "| model | validity |\n",
       "|---|---|\n",
       "| JP-glmnet | 0.1596877 |\n",
       "\n"
      ],
      "text/plain": [
       "  model     validity \n",
       "1 JP-glmnet 0.1596877"
      ]
     },
     "metadata": {},
     "output_type": "display_data"
    },
    {
     "data": {
      "text/plain": [
       "$`JP-glmnet`\n",
       "glmnet variable importance\n",
       "\n",
       "  only 20 most important variables shown (out of 203)\n",
       "\n",
       "              Overall\n",
       "even           100.00\n",
       "working         97.26\n",
       "employee        76.11\n",
       "article         63.37\n",
       "iam             63.34\n",
       "show            62.41\n",
       "evidence        59.44\n",
       "around          40.40\n",
       "ready           36.91\n",
       "best            35.05\n",
       "research        34.80\n",
       "people          33.87\n",
       "important       30.30\n",
       "donat           27.14\n",
       "learning        22.05\n",
       "students        19.86\n",
       "study           18.17\n",
       "talentmetrics   18.11\n",
       "life            16.70\n",
       "know            15.66\n"
      ]
     },
     "metadata": {},
     "output_type": "display_data"
    }
   ],
   "source": [
    "#set seed for reproducibility\n",
    "set.seed(167)\n",
    "\n",
    "# let's create a holdout dataset\n",
    "index <- createDataPartition(model_data$ID, p=0.80, list=FALSE)\n",
    "training_df <- model_data[index,]\n",
    "test_df <- model_data[-index,]\n",
    "# let's set up vectors of algorithms to look at\n",
    "algo_vec <- c(\"glmnet\")\n",
    "\n",
    "# create Kfold index\n",
    "index <- createFolds(training_df$ID, k=5)\n",
    "training_df<-training_df[-1] #remove id var\n",
    "test_df<-test_df[-1] # remove id var\n",
    "\n",
    "\n",
    "# iterate through analyses and create each model, also validate versus test set\n",
    "results_df <- data_frame(model=as.character(), validity=as.numeric())\n",
    "models <- list()\n",
    "for (j in 1:length(algo_vec)) {\n",
    "    resultName <- paste0(\"JP\",\"-\",algo_vec[j])\n",
    "    garbage<-capture.output( #supress output\n",
    "    models[[resultName]] <- train(  \n",
    "      tweet_popularity ~ .,\n",
    "      tuneLength=5,\n",
    "      data=training_df,\n",
    "      method=algo_vec[j],\n",
    "      preProcess=c(\"zv\", \"corr\"),\n",
    "      trControl=trainControl(method=\"cv\", number=5, verboseIter=T, index=index)\n",
    "    )\n",
    "        )\n",
    "    results_df <- bind_rows(results_df, data_frame(\n",
    "      model=resultName,\n",
    "      validity=cor(predict(models[[resultName]], test_df), pull(test_df, tweet_popularity))\n",
    "    )\n",
    "    )\n",
    "  }\n",
    "\n",
    "\n",
    "#examine results\n",
    "results_df\n",
    "\n",
    "#examine top 20 vars/model\n",
    "lapply(models, varImp)"
   ]
  }
 ],
 "metadata": {
  "kernelspec": {
   "display_name": "R",
   "language": "R",
   "name": "ir"
  },
  "language_info": {
   "codemirror_mode": "r",
   "file_extension": ".r",
   "mimetype": "text/x-r-source",
   "name": "R",
   "pygments_lexer": "r",
   "version": "3.5.1"
  }
 },
 "nbformat": 4,
 "nbformat_minor": 2
}
